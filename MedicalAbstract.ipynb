{
  "nbformat": 4,
  "nbformat_minor": 0,
  "metadata": {
    "colab": {
      "provenance": [],
      "authorship_tag": "ABX9TyOxnb6NPLICqTi19Xxlbr99",
      "include_colab_link": true
    },
    "kernelspec": {
      "name": "python3",
      "display_name": "Python 3"
    },
    "language_info": {
      "name": "python"
    },
    "accelerator": "GPU"
  },
  "cells": [
    {
      "cell_type": "markdown",
      "metadata": {
        "id": "view-in-github",
        "colab_type": "text"
      },
      "source": [
        "<a href=\"https://colab.research.google.com/github/salaz055/JohnSalazar/blob/main/MedicalAbstract.ipynb\" target=\"_parent\"><img src=\"https://colab.research.google.com/assets/colab-badge.svg\" alt=\"Open In Colab\"/></a>"
      ]
    },
    {
      "cell_type": "markdown",
      "source": [
        "# Medical Abstract Classifier\n",
        "\n",
        "The purpose is to build an NLP model to make reading medical abstracts easier.\n",
        "\n",
        "The paper we're replicating is https://arxiv.org/abs/1710.06071\n",
        "\n",
        "The model used to find the best results is below:\n",
        "https://arxiv.org/abs/1612.05251"
      ],
      "metadata": {
        "id": "o21R-M0vWMeY"
      }
    },
    {
      "cell_type": "markdown",
      "source": [
        "## Access to GPU"
      ],
      "metadata": {
        "id": "X-q5z-OxXDdn"
      }
    },
    {
      "cell_type": "code",
      "source": [
        "!nvidia-smi"
      ],
      "metadata": {
        "colab": {
          "base_uri": "https://localhost:8080/"
        },
        "id": "iMvLZ0aJX6w_",
        "outputId": "eb3667d5-ed24-49ac-db35-04003e491c92"
      },
      "execution_count": null,
      "outputs": [
        {
          "output_type": "stream",
          "name": "stdout",
          "text": [
            "Mon Dec 19 17:02:28 2022       \n",
            "+-----------------------------------------------------------------------------+\n",
            "| NVIDIA-SMI 460.32.03    Driver Version: 460.32.03    CUDA Version: 11.2     |\n",
            "|-------------------------------+----------------------+----------------------+\n",
            "| GPU  Name        Persistence-M| Bus-Id        Disp.A | Volatile Uncorr. ECC |\n",
            "| Fan  Temp  Perf  Pwr:Usage/Cap|         Memory-Usage | GPU-Util  Compute M. |\n",
            "|                               |                      |               MIG M. |\n",
            "|===============================+======================+======================|\n",
            "|   0  Tesla T4            Off  | 00000000:00:04.0 Off |                    0 |\n",
            "| N/A   59C    P0    28W /  70W |      0MiB / 15109MiB |      0%      Default |\n",
            "|                               |                      |                  N/A |\n",
            "+-------------------------------+----------------------+----------------------+\n",
            "                                                                               \n",
            "+-----------------------------------------------------------------------------+\n",
            "| Processes:                                                                  |\n",
            "|  GPU   GI   CI        PID   Type   Process name                  GPU Memory |\n",
            "|        ID   ID                                                   Usage      |\n",
            "|=============================================================================|\n",
            "|  No running processes found                                                 |\n",
            "+-----------------------------------------------------------------------------+\n"
          ]
        }
      ]
    },
    {
      "cell_type": "markdown",
      "source": [
        "## Get the data\n",
        "\n",
        "Since I will need to replicate the experiment above, let's download the dataset\n",
        "\n",
        "I can do so from the authors Github\n",
        "https://github.com/Franck-Dernoncourt/pubmed-rct"
      ],
      "metadata": {
        "id": "haQSMgipX-rf"
      }
    },
    {
      "cell_type": "code",
      "source": [
        "!git clone  https://github.com/Franck-Dernoncourt/pubmed-rct\n",
        "!ls pubmed-rct"
      ],
      "metadata": {
        "colab": {
          "base_uri": "https://localhost:8080/"
        },
        "id": "JPxWaAFJYXFX",
        "outputId": "11fe0265-d6d3-4471-d132-7c471f840a70"
      },
      "execution_count": null,
      "outputs": [
        {
          "output_type": "stream",
          "name": "stdout",
          "text": [
            "Cloning into 'pubmed-rct'...\n",
            "remote: Enumerating objects: 33, done.\u001b[K\n",
            "remote: Counting objects: 100% (8/8), done.\u001b[K\n",
            "remote: Compressing objects: 100% (3/3), done.\u001b[K\n",
            "remote: Total 33 (delta 5), reused 5 (delta 5), pack-reused 25\u001b[K\n",
            "Unpacking objects: 100% (33/33), done.\n",
            "Checking out files: 100% (13/13), done.\n",
            "PubMed_200k_RCT\n",
            "PubMed_200k_RCT_numbers_replaced_with_at_sign\n",
            "PubMed_20k_RCT\n",
            "PubMed_20k_RCT_numbers_replaced_with_at_sign\n",
            "README.md\n"
          ]
        }
      ]
    },
    {
      "cell_type": "code",
      "source": [
        "# Check what files are in the PubMed_20K dataset\n",
        "!ls pubmed-rct/PubMed_20k_RCT_numbers_replaced_with_at_sign/"
      ],
      "metadata": {
        "colab": {
          "base_uri": "https://localhost:8080/"
        },
        "id": "FX8eu-T0YuyI",
        "outputId": "ff98b149-a227-4eea-d72b-fe76db55752a"
      },
      "execution_count": null,
      "outputs": [
        {
          "output_type": "stream",
          "name": "stdout",
          "text": [
            "dev.txt  test.txt  train.txt\n"
          ]
        }
      ]
    },
    {
      "cell_type": "code",
      "source": [
        "# Start the experiments using the 20k datasets with numbers replaced with @\n",
        "data_dir = \"/content/pubmed-rct/PubMed_20k_RCT_numbers_replaced_with_at_sign/\""
      ],
      "metadata": {
        "id": "6-wD7ih8ZW8g"
      },
      "execution_count": null,
      "outputs": []
    },
    {
      "cell_type": "code",
      "source": [
        "# Check all of the filenames in the target directory\n",
        "import os\n",
        "filenames = [data_dir + filename for filename in os.listdir(data_dir)]\n",
        "filenames"
      ],
      "metadata": {
        "colab": {
          "base_uri": "https://localhost:8080/"
        },
        "id": "-rYCyToNcGap",
        "outputId": "4d3f60b3-2582-4422-e713-4c7f5b9ccc5d"
      },
      "execution_count": null,
      "outputs": [
        {
          "output_type": "execute_result",
          "data": {
            "text/plain": [
              "['/content/pubmed-rct/PubMed_20k_RCT_numbers_replaced_with_at_sign/test.txt',\n",
              " '/content/pubmed-rct/PubMed_20k_RCT_numbers_replaced_with_at_sign/train.txt',\n",
              " '/content/pubmed-rct/PubMed_20k_RCT_numbers_replaced_with_at_sign/dev.txt']"
            ]
          },
          "metadata": {},
          "execution_count": 5
        }
      ]
    },
    {
      "cell_type": "markdown",
      "source": [
        "# Preprocess data\n",
        "One of the best ways to become one with the data is to visualize it."
      ],
      "metadata": {
        "id": "8BTI-varcZ-A"
      }
    },
    {
      "cell_type": "code",
      "source": [
        "# Create the function to read lines of a document\n",
        "\n",
        "def get_lines(filename):\n",
        "  \"\"\"\n",
        "  Reads filename and returns the lines of text as a list.\n",
        "\n",
        "  Args:\n",
        "    filename: a string containing the target filepath\n",
        "\n",
        "  Returns:\n",
        "    A list of strings with one string per line from the target filename\n",
        "  \"\"\"\n",
        "\n",
        "  with open(filename , 'r') as f:\n",
        "    return f.readlines()\n",
        "    \n"
      ],
      "metadata": {
        "id": "gHBc1VcXdH8v"
      },
      "execution_count": null,
      "outputs": []
    },
    {
      "cell_type": "code",
      "source": [
        "# Let's try out the function\n",
        "train_lines = get_lines(data_dir+'train.txt')\n",
        "train_lines[:20]"
      ],
      "metadata": {
        "colab": {
          "base_uri": "https://localhost:8080/"
        },
        "id": "5-UW67mAd4dP",
        "outputId": "8dcfb999-1d19-43e9-d280-f8642bfffb25"
      },
      "execution_count": null,
      "outputs": [
        {
          "output_type": "execute_result",
          "data": {
            "text/plain": [
              "['###24293578\\n',\n",
              " 'OBJECTIVE\\tTo investigate the efficacy of @ weeks of daily low-dose oral prednisolone in improving pain , mobility , and systemic low-grade inflammation in the short term and whether the effect would be sustained at @ weeks in older adults with moderate to severe knee osteoarthritis ( OA ) .\\n',\n",
              " 'METHODS\\tA total of @ patients with primary knee OA were randomized @:@ ; @ received @ mg/day of prednisolone and @ received placebo for @ weeks .\\n',\n",
              " 'METHODS\\tOutcome measures included pain reduction and improvement in function scores and systemic inflammation markers .\\n',\n",
              " 'METHODS\\tPain was assessed using the visual analog pain scale ( @-@ mm ) .\\n',\n",
              " 'METHODS\\tSecondary outcome measures included the Western Ontario and McMaster Universities Osteoarthritis Index scores , patient global assessment ( PGA ) of the severity of knee OA , and @-min walk distance ( @MWD ) .\\n',\n",
              " 'METHODS\\tSerum levels of interleukin @ ( IL-@ ) , IL-@ , tumor necrosis factor ( TNF ) - , and high-sensitivity C-reactive protein ( hsCRP ) were measured .\\n',\n",
              " 'RESULTS\\tThere was a clinically relevant reduction in the intervention group compared to the placebo group for knee pain , physical function , PGA , and @MWD at @ weeks .\\n',\n",
              " 'RESULTS\\tThe mean difference between treatment arms ( @ % CI ) was @ ( @-@ @ ) , p < @ ; @ ( @-@ @ ) , p < @ ; @ ( @-@ @ ) , p < @ ; and @ ( @-@ @ ) , p < @ , respectively .\\n',\n",
              " 'RESULTS\\tFurther , there was a clinically relevant reduction in the serum levels of IL-@ , IL-@ , TNF - , and hsCRP at @ weeks in the intervention group when compared to the placebo group .\\n',\n",
              " 'RESULTS\\tThese differences remained significant at @ weeks .\\n',\n",
              " 'RESULTS\\tThe Outcome Measures in Rheumatology Clinical Trials-Osteoarthritis Research Society International responder rate was @ % in the intervention group and @ % in the placebo group ( p < @ ) .\\n',\n",
              " 'CONCLUSIONS\\tLow-dose oral prednisolone had both a short-term and a longer sustained effect resulting in less knee pain , better physical function , and attenuation of systemic inflammation in older patients with knee OA ( ClinicalTrials.gov identifier NCT@ ) .\\n',\n",
              " '\\n',\n",
              " '###24854809\\n',\n",
              " 'BACKGROUND\\tEmotional eating is associated with overeating and the development of obesity .\\n',\n",
              " 'BACKGROUND\\tYet , empirical evidence for individual ( trait ) differences in emotional eating and cognitive mechanisms that contribute to eating during sad mood remain equivocal .\\n',\n",
              " 'OBJECTIVE\\tThe aim of this study was to test if attention bias for food moderates the effect of self-reported emotional eating during sad mood ( vs neutral mood ) on actual food intake .\\n',\n",
              " 'OBJECTIVE\\tIt was expected that emotional eating is predictive of elevated attention for food and higher food intake after an experimentally induced sad mood and that attentional maintenance on food predicts food intake during a sad versus a neutral mood .\\n',\n",
              " 'METHODS\\tParticipants ( N = @ ) were randomly assigned to one of the two experimental mood induction conditions ( sad/neutral ) .\\n']"
            ]
          },
          "metadata": {},
          "execution_count": 7
        }
      ]
    },
    {
      "cell_type": "markdown",
      "source": [
        "\n",
        "How I think the data will be best represented...\n",
        "```\n",
        "[{'line_number' :0,\n",
        "    'target' : 'BACKGROUND',\n",
        "    'text' : 'Emotional eating is    associated with overeating and the development of obesity.',\n",
        "    'total_lines': 11} .....]\n",
        "\n",
        "```\n",
        "\n",
        "Total lines refers to the amount of lines in the abstract"
      ],
      "metadata": {
        "id": "M4yEFKJbeGVA"
      }
    },
    {
      "cell_type": "markdown",
      "source": [
        "## Creating a preprocessing function"
      ],
      "metadata": {
        "id": "k_3gTBnvgzhn"
      }
    },
    {
      "cell_type": "code",
      "source": [
        "def preprocess_text_with_line_numbers(filename):\n",
        "  \"\"\"Returns a list of dictionaries of abstract line data.\n",
        "\n",
        "  Takes in filename, reads its contents and sorts through each line,\n",
        "  extracting things like the target label, the text of the sentence,\n",
        "  how many sentences are in the current abstract and what sentence number\n",
        "  the target line is.\n",
        "\n",
        "  Args:\n",
        "      filename: a string of the target text file to read and extract line data\n",
        "      from.\n",
        "\n",
        "  Returns:\n",
        "      A list of dictionaries each containing a line from an abstract,\n",
        "      the lines label, the lines position in the abstract and the total number\n",
        "      of lines in the abstract where the line is from. For example:\n",
        "\n",
        "      [{\"target\": 'CONCLUSION',\n",
        "        \"text\": The study couldn't have gone better, turns out people are kinder than you think\",\n",
        "        \"line_number\": 8,\n",
        "        \"total_lines\": 8}]\n",
        "  \"\"\"\n",
        "  input_lines = get_lines(filename) # get all lines from filename\n",
        "  abstract_lines = \"\" # create an empty abstract\n",
        "  abstract_samples = [] # create an empty list of abstracts\n",
        "  \n",
        "  # Loop through each line in target file\n",
        "  for line in input_lines:\n",
        "    if line.startswith(\"###\"): # check to see if line is an ID line\n",
        "      abstract_id = line\n",
        "      abstract_lines = \"\" # reset abstract string\n",
        "    elif line.isspace(): # check to see if line is a new line\n",
        "      abstract_line_split = abstract_lines.splitlines() # split abstract into separate lines\n",
        "\n",
        "      # Iterate through each line in abstract and count them at the same time\n",
        "      for abstract_line_number, abstract_line in enumerate(abstract_line_split):\n",
        "        line_data = {} # create empty dict to store data from line\n",
        "        target_text_split = abstract_line.split(\"\\t\") # split target label from text\n",
        "        line_data[\"target\"] = target_text_split[0] # get target label\n",
        "        line_data[\"text\"] = target_text_split[1].lower() # get target text and lower it\n",
        "        line_data[\"line_number\"] = abstract_line_number # what number line does the line appear in the abstract?\n",
        "        line_data[\"total_lines\"] = len(abstract_line_split) - 1 # how many total lines are in the abstract? (start from 0)\n",
        "        abstract_samples.append(line_data) # add line data to abstract samples list\n",
        "    \n",
        "    else: # if the above conditions aren't fulfilled, the line contains a labelled sentence\n",
        "      abstract_lines += line\n",
        "  \n",
        "  return abstract_samples\n",
        "\n",
        "\n",
        "\n"
      ],
      "metadata": {
        "id": "P8lanx5lzpbd"
      },
      "execution_count": null,
      "outputs": []
    },
    {
      "cell_type": "code",
      "source": [
        "# Get the data from the file and preprocess it.\n",
        "%%time\n",
        "train_samples = preprocess_text_with_line_numbers(data_dir + \"train.txt\")\n",
        "val_samples = preprocess_text_with_line_numbers(data_dir + \"dev.txt\")\n",
        "test_samples = preprocess_text_with_line_numbers(data_dir + \"test.txt\")"
      ],
      "metadata": {
        "colab": {
          "base_uri": "https://localhost:8080/"
        },
        "id": "fggnTS6N40F4",
        "outputId": "5b26f384-d528-4dee-9d0c-12bb527e1e29"
      },
      "execution_count": null,
      "outputs": [
        {
          "output_type": "stream",
          "name": "stdout",
          "text": [
            "CPU times: user 347 ms, sys: 92.3 ms, total: 439 ms\n",
            "Wall time: 440 ms\n"
          ]
        }
      ]
    },
    {
      "cell_type": "code",
      "source": [
        "len(train_samples) , len(test_samples) , len(val_samples)"
      ],
      "metadata": {
        "colab": {
          "base_uri": "https://localhost:8080/"
        },
        "id": "Yd5UUH2F7dp5",
        "outputId": "ea12d648-9ffa-4818-b805-042ffac85cf8"
      },
      "execution_count": null,
      "outputs": [
        {
          "output_type": "execute_result",
          "data": {
            "text/plain": [
              "(180040, 30135, 30212)"
            ]
          },
          "metadata": {},
          "execution_count": 10
        }
      ]
    },
    {
      "cell_type": "code",
      "source": [
        "# Check the first abstract of the training data\n",
        "train_samples[:5]"
      ],
      "metadata": {
        "colab": {
          "base_uri": "https://localhost:8080/"
        },
        "id": "LbPgADbL7oCx",
        "outputId": "2a0090f3-5fa5-4724-c58a-4cfbb48734af"
      },
      "execution_count": null,
      "outputs": [
        {
          "output_type": "execute_result",
          "data": {
            "text/plain": [
              "[{'target': 'OBJECTIVE',\n",
              "  'text': 'to investigate the efficacy of @ weeks of daily low-dose oral prednisolone in improving pain , mobility , and systemic low-grade inflammation in the short term and whether the effect would be sustained at @ weeks in older adults with moderate to severe knee osteoarthritis ( oa ) .',\n",
              "  'line_number': 0,\n",
              "  'total_lines': 11},\n",
              " {'target': 'METHODS',\n",
              "  'text': 'a total of @ patients with primary knee oa were randomized @:@ ; @ received @ mg/day of prednisolone and @ received placebo for @ weeks .',\n",
              "  'line_number': 1,\n",
              "  'total_lines': 11},\n",
              " {'target': 'METHODS',\n",
              "  'text': 'outcome measures included pain reduction and improvement in function scores and systemic inflammation markers .',\n",
              "  'line_number': 2,\n",
              "  'total_lines': 11},\n",
              " {'target': 'METHODS',\n",
              "  'text': 'pain was assessed using the visual analog pain scale ( @-@ mm ) .',\n",
              "  'line_number': 3,\n",
              "  'total_lines': 11},\n",
              " {'target': 'METHODS',\n",
              "  'text': 'secondary outcome measures included the western ontario and mcmaster universities osteoarthritis index scores , patient global assessment ( pga ) of the severity of knee oa , and @-min walk distance ( @mwd ) .',\n",
              "  'line_number': 4,\n",
              "  'total_lines': 11}]"
            ]
          },
          "metadata": {},
          "execution_count": 28
        }
      ]
    },
    {
      "cell_type": "markdown",
      "source": [
        "## Visualizing the preprocessed data in a dataframe"
      ],
      "metadata": {
        "id": "DDsbywb97zAZ"
      }
    },
    {
      "cell_type": "code",
      "source": [
        "import pandas as pd\n",
        "train_df = pd.DataFrame(train_samples)\n",
        "val_df = pd.DataFrame(val_samples)\n",
        "test_df = pd.DataFrame(test_samples)\n",
        "train_df.head(20)"
      ],
      "metadata": {
        "colab": {
          "base_uri": "https://localhost:8080/",
          "height": 677
        },
        "id": "zd4AWIe6-MlJ",
        "outputId": "0d5df414-d806-4026-c25e-b53e91a2e5ea"
      },
      "execution_count": null,
      "outputs": [
        {
          "output_type": "execute_result",
          "data": {
            "text/plain": [
              "         target                                               text  \\\n",
              "0     OBJECTIVE  to investigate the efficacy of @ weeks of dail...   \n",
              "1       METHODS  a total of @ patients with primary knee oa wer...   \n",
              "2       METHODS  outcome measures included pain reduction and i...   \n",
              "3       METHODS  pain was assessed using the visual analog pain...   \n",
              "4       METHODS  secondary outcome measures included the wester...   \n",
              "5       METHODS  serum levels of interleukin @ ( il-@ ) , il-@ ...   \n",
              "6       RESULTS  there was a clinically relevant reduction in t...   \n",
              "7       RESULTS  the mean difference between treatment arms ( @...   \n",
              "8       RESULTS  further , there was a clinically relevant redu...   \n",
              "9       RESULTS  these differences remained significant at @ we...   \n",
              "10      RESULTS  the outcome measures in rheumatology clinical ...   \n",
              "11  CONCLUSIONS  low-dose oral prednisolone had both a short-te...   \n",
              "12   BACKGROUND  emotional eating is associated with overeating...   \n",
              "13   BACKGROUND  yet , empirical evidence for individual ( trai...   \n",
              "14    OBJECTIVE  the aim of this study was to test if attention...   \n",
              "15    OBJECTIVE  it was expected that emotional eating is predi...   \n",
              "16      METHODS  participants ( n = @ ) were randomly assigned ...   \n",
              "17      METHODS  attentional biases for high caloric foods were...   \n",
              "18      METHODS  self-reported emotional eating was assessed wi...   \n",
              "19      RESULTS  hierarchical multivariate regression modeling ...   \n",
              "\n",
              "    line_number  total_lines  \n",
              "0             0           11  \n",
              "1             1           11  \n",
              "2             2           11  \n",
              "3             3           11  \n",
              "4             4           11  \n",
              "5             5           11  \n",
              "6             6           11  \n",
              "7             7           11  \n",
              "8             8           11  \n",
              "9             9           11  \n",
              "10           10           11  \n",
              "11           11           11  \n",
              "12            0           10  \n",
              "13            1           10  \n",
              "14            2           10  \n",
              "15            3           10  \n",
              "16            4           10  \n",
              "17            5           10  \n",
              "18            6           10  \n",
              "19            7           10  "
            ],
            "text/html": [
              "\n",
              "  <div id=\"df-3a596b96-8808-4c8a-993c-31149aef950b\">\n",
              "    <div class=\"colab-df-container\">\n",
              "      <div>\n",
              "<style scoped>\n",
              "    .dataframe tbody tr th:only-of-type {\n",
              "        vertical-align: middle;\n",
              "    }\n",
              "\n",
              "    .dataframe tbody tr th {\n",
              "        vertical-align: top;\n",
              "    }\n",
              "\n",
              "    .dataframe thead th {\n",
              "        text-align: right;\n",
              "    }\n",
              "</style>\n",
              "<table border=\"1\" class=\"dataframe\">\n",
              "  <thead>\n",
              "    <tr style=\"text-align: right;\">\n",
              "      <th></th>\n",
              "      <th>target</th>\n",
              "      <th>text</th>\n",
              "      <th>line_number</th>\n",
              "      <th>total_lines</th>\n",
              "    </tr>\n",
              "  </thead>\n",
              "  <tbody>\n",
              "    <tr>\n",
              "      <th>0</th>\n",
              "      <td>OBJECTIVE</td>\n",
              "      <td>to investigate the efficacy of @ weeks of dail...</td>\n",
              "      <td>0</td>\n",
              "      <td>11</td>\n",
              "    </tr>\n",
              "    <tr>\n",
              "      <th>1</th>\n",
              "      <td>METHODS</td>\n",
              "      <td>a total of @ patients with primary knee oa wer...</td>\n",
              "      <td>1</td>\n",
              "      <td>11</td>\n",
              "    </tr>\n",
              "    <tr>\n",
              "      <th>2</th>\n",
              "      <td>METHODS</td>\n",
              "      <td>outcome measures included pain reduction and i...</td>\n",
              "      <td>2</td>\n",
              "      <td>11</td>\n",
              "    </tr>\n",
              "    <tr>\n",
              "      <th>3</th>\n",
              "      <td>METHODS</td>\n",
              "      <td>pain was assessed using the visual analog pain...</td>\n",
              "      <td>3</td>\n",
              "      <td>11</td>\n",
              "    </tr>\n",
              "    <tr>\n",
              "      <th>4</th>\n",
              "      <td>METHODS</td>\n",
              "      <td>secondary outcome measures included the wester...</td>\n",
              "      <td>4</td>\n",
              "      <td>11</td>\n",
              "    </tr>\n",
              "    <tr>\n",
              "      <th>5</th>\n",
              "      <td>METHODS</td>\n",
              "      <td>serum levels of interleukin @ ( il-@ ) , il-@ ...</td>\n",
              "      <td>5</td>\n",
              "      <td>11</td>\n",
              "    </tr>\n",
              "    <tr>\n",
              "      <th>6</th>\n",
              "      <td>RESULTS</td>\n",
              "      <td>there was a clinically relevant reduction in t...</td>\n",
              "      <td>6</td>\n",
              "      <td>11</td>\n",
              "    </tr>\n",
              "    <tr>\n",
              "      <th>7</th>\n",
              "      <td>RESULTS</td>\n",
              "      <td>the mean difference between treatment arms ( @...</td>\n",
              "      <td>7</td>\n",
              "      <td>11</td>\n",
              "    </tr>\n",
              "    <tr>\n",
              "      <th>8</th>\n",
              "      <td>RESULTS</td>\n",
              "      <td>further , there was a clinically relevant redu...</td>\n",
              "      <td>8</td>\n",
              "      <td>11</td>\n",
              "    </tr>\n",
              "    <tr>\n",
              "      <th>9</th>\n",
              "      <td>RESULTS</td>\n",
              "      <td>these differences remained significant at @ we...</td>\n",
              "      <td>9</td>\n",
              "      <td>11</td>\n",
              "    </tr>\n",
              "    <tr>\n",
              "      <th>10</th>\n",
              "      <td>RESULTS</td>\n",
              "      <td>the outcome measures in rheumatology clinical ...</td>\n",
              "      <td>10</td>\n",
              "      <td>11</td>\n",
              "    </tr>\n",
              "    <tr>\n",
              "      <th>11</th>\n",
              "      <td>CONCLUSIONS</td>\n",
              "      <td>low-dose oral prednisolone had both a short-te...</td>\n",
              "      <td>11</td>\n",
              "      <td>11</td>\n",
              "    </tr>\n",
              "    <tr>\n",
              "      <th>12</th>\n",
              "      <td>BACKGROUND</td>\n",
              "      <td>emotional eating is associated with overeating...</td>\n",
              "      <td>0</td>\n",
              "      <td>10</td>\n",
              "    </tr>\n",
              "    <tr>\n",
              "      <th>13</th>\n",
              "      <td>BACKGROUND</td>\n",
              "      <td>yet , empirical evidence for individual ( trai...</td>\n",
              "      <td>1</td>\n",
              "      <td>10</td>\n",
              "    </tr>\n",
              "    <tr>\n",
              "      <th>14</th>\n",
              "      <td>OBJECTIVE</td>\n",
              "      <td>the aim of this study was to test if attention...</td>\n",
              "      <td>2</td>\n",
              "      <td>10</td>\n",
              "    </tr>\n",
              "    <tr>\n",
              "      <th>15</th>\n",
              "      <td>OBJECTIVE</td>\n",
              "      <td>it was expected that emotional eating is predi...</td>\n",
              "      <td>3</td>\n",
              "      <td>10</td>\n",
              "    </tr>\n",
              "    <tr>\n",
              "      <th>16</th>\n",
              "      <td>METHODS</td>\n",
              "      <td>participants ( n = @ ) were randomly assigned ...</td>\n",
              "      <td>4</td>\n",
              "      <td>10</td>\n",
              "    </tr>\n",
              "    <tr>\n",
              "      <th>17</th>\n",
              "      <td>METHODS</td>\n",
              "      <td>attentional biases for high caloric foods were...</td>\n",
              "      <td>5</td>\n",
              "      <td>10</td>\n",
              "    </tr>\n",
              "    <tr>\n",
              "      <th>18</th>\n",
              "      <td>METHODS</td>\n",
              "      <td>self-reported emotional eating was assessed wi...</td>\n",
              "      <td>6</td>\n",
              "      <td>10</td>\n",
              "    </tr>\n",
              "    <tr>\n",
              "      <th>19</th>\n",
              "      <td>RESULTS</td>\n",
              "      <td>hierarchical multivariate regression modeling ...</td>\n",
              "      <td>7</td>\n",
              "      <td>10</td>\n",
              "    </tr>\n",
              "  </tbody>\n",
              "</table>\n",
              "</div>\n",
              "      <button class=\"colab-df-convert\" onclick=\"convertToInteractive('df-3a596b96-8808-4c8a-993c-31149aef950b')\"\n",
              "              title=\"Convert this dataframe to an interactive table.\"\n",
              "              style=\"display:none;\">\n",
              "        \n",
              "  <svg xmlns=\"http://www.w3.org/2000/svg\" height=\"24px\"viewBox=\"0 0 24 24\"\n",
              "       width=\"24px\">\n",
              "    <path d=\"M0 0h24v24H0V0z\" fill=\"none\"/>\n",
              "    <path d=\"M18.56 5.44l.94 2.06.94-2.06 2.06-.94-2.06-.94-.94-2.06-.94 2.06-2.06.94zm-11 1L8.5 8.5l.94-2.06 2.06-.94-2.06-.94L8.5 2.5l-.94 2.06-2.06.94zm10 10l.94 2.06.94-2.06 2.06-.94-2.06-.94-.94-2.06-.94 2.06-2.06.94z\"/><path d=\"M17.41 7.96l-1.37-1.37c-.4-.4-.92-.59-1.43-.59-.52 0-1.04.2-1.43.59L10.3 9.45l-7.72 7.72c-.78.78-.78 2.05 0 2.83L4 21.41c.39.39.9.59 1.41.59.51 0 1.02-.2 1.41-.59l7.78-7.78 2.81-2.81c.8-.78.8-2.07 0-2.86zM5.41 20L4 18.59l7.72-7.72 1.47 1.35L5.41 20z\"/>\n",
              "  </svg>\n",
              "      </button>\n",
              "      \n",
              "  <style>\n",
              "    .colab-df-container {\n",
              "      display:flex;\n",
              "      flex-wrap:wrap;\n",
              "      gap: 12px;\n",
              "    }\n",
              "\n",
              "    .colab-df-convert {\n",
              "      background-color: #E8F0FE;\n",
              "      border: none;\n",
              "      border-radius: 50%;\n",
              "      cursor: pointer;\n",
              "      display: none;\n",
              "      fill: #1967D2;\n",
              "      height: 32px;\n",
              "      padding: 0 0 0 0;\n",
              "      width: 32px;\n",
              "    }\n",
              "\n",
              "    .colab-df-convert:hover {\n",
              "      background-color: #E2EBFA;\n",
              "      box-shadow: 0px 1px 2px rgba(60, 64, 67, 0.3), 0px 1px 3px 1px rgba(60, 64, 67, 0.15);\n",
              "      fill: #174EA6;\n",
              "    }\n",
              "\n",
              "    [theme=dark] .colab-df-convert {\n",
              "      background-color: #3B4455;\n",
              "      fill: #D2E3FC;\n",
              "    }\n",
              "\n",
              "    [theme=dark] .colab-df-convert:hover {\n",
              "      background-color: #434B5C;\n",
              "      box-shadow: 0px 1px 3px 1px rgba(0, 0, 0, 0.15);\n",
              "      filter: drop-shadow(0px 1px 2px rgba(0, 0, 0, 0.3));\n",
              "      fill: #FFFFFF;\n",
              "    }\n",
              "  </style>\n",
              "\n",
              "      <script>\n",
              "        const buttonEl =\n",
              "          document.querySelector('#df-3a596b96-8808-4c8a-993c-31149aef950b button.colab-df-convert');\n",
              "        buttonEl.style.display =\n",
              "          google.colab.kernel.accessAllowed ? 'block' : 'none';\n",
              "\n",
              "        async function convertToInteractive(key) {\n",
              "          const element = document.querySelector('#df-3a596b96-8808-4c8a-993c-31149aef950b');\n",
              "          const dataTable =\n",
              "            await google.colab.kernel.invokeFunction('convertToInteractive',\n",
              "                                                     [key], {});\n",
              "          if (!dataTable) return;\n",
              "\n",
              "          const docLinkHtml = 'Like what you see? Visit the ' +\n",
              "            '<a target=\"_blank\" href=https://colab.research.google.com/notebooks/data_table.ipynb>data table notebook</a>'\n",
              "            + ' to learn more about interactive tables.';\n",
              "          element.innerHTML = '';\n",
              "          dataTable['output_type'] = 'display_data';\n",
              "          await google.colab.output.renderOutput(dataTable, element);\n",
              "          const docLink = document.createElement('div');\n",
              "          docLink.innerHTML = docLinkHtml;\n",
              "          element.appendChild(docLink);\n",
              "        }\n",
              "      </script>\n",
              "    </div>\n",
              "  </div>\n",
              "  "
            ]
          },
          "metadata": {},
          "execution_count": 12
        }
      ]
    },
    {
      "cell_type": "markdown",
      "source": [
        "## Looking at the distribution of labels\n"
      ],
      "metadata": {
        "id": "hlq9rpoy-hBa"
      }
    },
    {
      "cell_type": "code",
      "source": [
        "train_df.target.value_counts()"
      ],
      "metadata": {
        "colab": {
          "base_uri": "https://localhost:8080/"
        },
        "id": "b7K1fTNW_B_r",
        "outputId": "34bd5d61-0ce5-4627-b6bd-c95306190d7d"
      },
      "execution_count": null,
      "outputs": [
        {
          "output_type": "execute_result",
          "data": {
            "text/plain": [
              "METHODS        59353\n",
              "RESULTS        57953\n",
              "CONCLUSIONS    27168\n",
              "BACKGROUND     21727\n",
              "OBJECTIVE      13839\n",
              "Name: target, dtype: int64"
            ]
          },
          "metadata": {},
          "execution_count": 13
        }
      ]
    },
    {
      "cell_type": "markdown",
      "source": [
        "## Checking the length of different lines\n"
      ],
      "metadata": {
        "id": "hVArETru_Foq"
      }
    },
    {
      "cell_type": "code",
      "source": [
        "train_df.total_lines.plot.hist(bins = 20)"
      ],
      "metadata": {
        "colab": {
          "base_uri": "https://localhost:8080/",
          "height": 285
        },
        "id": "hyw9SCj4_VOj",
        "outputId": "c6004314-7097-45d5-952c-225ef659a995"
      },
      "execution_count": null,
      "outputs": [
        {
          "output_type": "execute_result",
          "data": {
            "text/plain": [
              "<matplotlib.axes._subplots.AxesSubplot at 0x7fd4871f21f0>"
            ]
          },
          "metadata": {},
          "execution_count": 14
        },
        {
          "output_type": "display_data",
          "data": {
            "text/plain": [
              "<Figure size 432x288 with 1 Axes>"
            ],
            "image/png": "[encoded data removed]"
          },
          "metadata": {
            "needs_background": "light"
          }
        }
      ]
    },
    {
      "cell_type": "markdown",
      "source": [
        "## Get lists of sentences"
      ],
      "metadata": {
        "id": "q0W2sUuu_Y2b"
      }
    },
    {
      "cell_type": "code",
      "source": [
        "# Convert abstract text lines into lists\n",
        "train_sentences = train_df['text'].tolist()\n",
        "val_sentences = val_df['text'].tolist()\n",
        "test_sentences = test_df['text'].tolist()"
      ],
      "metadata": {
        "id": "TSH38PEC_kwL"
      },
      "execution_count": null,
      "outputs": []
    },
    {
      "cell_type": "markdown",
      "source": [
        "## Turning labels into a numeric form\n",
        "\n",
        "ML models require numeric labels\n"
      ],
      "metadata": {
        "id": "JbEoAEVc_6_b"
      }
    },
    {
      "cell_type": "code",
      "source": [
        "# One hot encode labels\n",
        "from sklearn.preprocessing import OneHotEncoder\n",
        "one_hot_encoder = OneHotEncoder(sparse = False)\n",
        "train_labels_one_hot = one_hot_encoder.fit_transform(train_df['target'].to_numpy().reshape(-1,1))\n",
        "val_labels_one_hot = one_hot_encoder.transform(val_df['target'].to_numpy().reshape(-1 , 1))\n",
        "test_labels_one_hot = one_hot_encoder.transform(test_df['target'].to_numpy().reshape(-1 , 1))"
      ],
      "metadata": {
        "id": "omeES1ptAb2b"
      },
      "execution_count": null,
      "outputs": []
    },
    {
      "cell_type": "markdown",
      "source": [
        "## Label encode labels\n"
      ],
      "metadata": {
        "id": "jsRJp4VJBX5r"
      }
    },
    {
      "cell_type": "code",
      "source": [
        "# Extract the labels (target coloumns) and encode them into intergets\n",
        "from sklearn.preprocessing import LabelEncoder\n",
        "label_encoder = LabelEncoder()\n",
        "train_labels_encoded = label_encoder.fit_transform(train_df['target'].to_numpy())\n",
        "val_labels_encoded = label_encoder.transform(val_df['target'].to_numpy())\n",
        "test_labels_encoded = label_encoder.transform(test_df['target'].to_numpy())\n",
        "\n",
        "# Check what training labels look like\n",
        "train_labels_encoded"
      ],
      "metadata": {
        "colab": {
          "base_uri": "https://localhost:8080/"
        },
        "id": "yrntJ8DYBdyb",
        "outputId": "7f2cfc0e-dbe3-45aa-e3be-4c188ceb7e6f"
      },
      "execution_count": null,
      "outputs": [
        {
          "output_type": "execute_result",
          "data": {
            "text/plain": [
              "array([3, 2, 2, ..., 4, 1, 1])"
            ]
          },
          "metadata": {},
          "execution_count": 18
        }
      ]
    },
    {
      "cell_type": "code",
      "source": [
        "# Get class names and number of classes from LabelEncoder instance \n",
        "num_classes = len(label_encoder.classes_)\n",
        "class_names = label_encoder.classes_\n",
        "num_classes, class_names"
      ],
      "metadata": {
        "colab": {
          "base_uri": "https://localhost:8080/"
        },
        "id": "c9XdcIkTCxfd",
        "outputId": "6c60b8fa-679c-4de1-8315-5e1ff3d349de"
      },
      "execution_count": null,
      "outputs": [
        {
          "output_type": "execute_result",
          "data": {
            "text/plain": [
              "(5, array(['BACKGROUND', 'CONCLUSIONS', 'METHODS', 'OBJECTIVE', 'RESULTS'],\n",
              "       dtype=object))"
            ]
          },
          "metadata": {},
          "execution_count": 19
        }
      ]
    },
    {
      "cell_type": "markdown",
      "source": [
        "# Models"
      ],
      "metadata": {
        "id": "gJKC8cIMEEyN"
      }
    },
    {
      "cell_type": "markdown",
      "source": [
        "## Model 0: A baseline (TF-IDF Multinomial Naive Bayes classifier)"
      ],
      "metadata": {
        "id": "JLOKxBqFGDX1"
      }
    },
    {
      "cell_type": "code",
      "source": [
        "from sklearn.feature_extraction.text import TfidfVectorizer\n",
        "from sklearn.naive_bayes import MultinomialNB\n",
        "from sklearn.pipeline import Pipeline"
      ],
      "metadata": {
        "id": "QtXcjKDMGKNW"
      },
      "execution_count": null,
      "outputs": []
    },
    {
      "cell_type": "code",
      "source": [
        "# Create a pipeline\n",
        "model_0 = Pipeline([\n",
        "  ('tf-idf' , TfidfVectorizer()),\n",
        "  ('clf' , MultinomialNB())\n",
        "])\n",
        "\n",
        "# Fit the pipeline to the training data\n",
        "model_0.fit(X = train_sentences ,\n",
        "            y = train_labels_encoded)\n",
        "\n"
      ],
      "metadata": {
        "colab": {
          "base_uri": "https://localhost:8080/"
        },
        "id": "avpKtvkOGxA-",
        "outputId": "a6d96b20-2350-482e-998a-66a8e9d5a619"
      },
      "execution_count": null,
      "outputs": [
        {
          "output_type": "execute_result",
          "data": {
            "text/plain": [
              "Pipeline(steps=[('tf-idf', TfidfVectorizer()), ('clf', MultinomialNB())])"
            ]
          },
          "metadata": {},
          "execution_count": 21
        }
      ]
    },
    {
      "cell_type": "code",
      "source": [
        "# Evaluate the baseline model on validation dataset\n",
        "model_0.score(X = val_sentences , \n",
        "              y = val_labels_encoded)"
      ],
      "metadata": {
        "colab": {
          "base_uri": "https://localhost:8080/"
        },
        "id": "C8O0pqxOHQZ5",
        "outputId": "015abb9d-204c-407f-fcd2-da0f5091ba31"
      },
      "execution_count": null,
      "outputs": [
        {
          "output_type": "execute_result",
          "data": {
            "text/plain": [
              "0.7218323844829869"
            ]
          },
          "metadata": {},
          "execution_count": 22
        }
      ]
    },
    {
      "cell_type": "code",
      "source": [
        "# Make predictions using the baseline model\n",
        "baseline_preds = model_0.predict(val_sentences)\n",
        "baseline_preds"
      ],
      "metadata": {
        "colab": {
          "base_uri": "https://localhost:8080/"
        },
        "id": "EwhOSxuUHjVn",
        "outputId": "ae1e80ec-9662-492a-c45c-d9a53a2841c2"
      },
      "execution_count": null,
      "outputs": [
        {
          "output_type": "execute_result",
          "data": {
            "text/plain": [
              "array([4, 1, 3, ..., 4, 4, 1])"
            ]
          },
          "metadata": {},
          "execution_count": 23
        }
      ]
    },
    {
      "cell_type": "code",
      "source": [
        "### Download the helper function script \n",
        "!wget https://raw.githubusercontent.com/mrdbourke/tensorflow-deep-learning/main/extras/helper_functions.py"
      ],
      "metadata": {
        "colab": {
          "base_uri": "https://localhost:8080/"
        },
        "id": "jTcD9KpGHtwH",
        "outputId": "d598aef8-a6c1-4dd0-d1b5-1490f460b5b4"
      },
      "execution_count": null,
      "outputs": [
        {
          "output_type": "stream",
          "name": "stdout",
          "text": [
            "--2022-12-19 17:15:29--  https://raw.githubusercontent.com/mrdbourke/tensorflow-deep-learning/main/extras/helper_functions.py\n",
            "Resolving raw.githubusercontent.com (raw.githubusercontent.com)... 185.199.108.133, 185.199.109.133, 185.199.110.133, ...\n",
            "Connecting to raw.githubusercontent.com (raw.githubusercontent.com)|185.199.108.133|:443... connected.\n",
            "HTTP request sent, awaiting response... 200 OK\n",
            "Length: 10246 (10K) [text/plain]\n",
            "Saving to: ‘helper_functions.py’\n",
            "\n",
            "helper_functions.py 100%[===================>]  10.01K  --.-KB/s    in 0s      \n",
            "\n",
            "2022-12-19 17:15:29 (75.0 MB/s) - ‘helper_functions.py’ saved [10246/10246]\n",
            "\n"
          ]
        }
      ]
    },
    {
      "cell_type": "code",
      "source": [
        "from helper_functions import calculate_results"
      ],
      "metadata": {
        "id": "9zyPsZJZH0du"
      },
      "execution_count": null,
      "outputs": []
    },
    {
      "cell_type": "code",
      "source": [
        "# Calculate baseline results\n",
        "baseline_results = calculate_results(y_true = val_labels_encoded,\n",
        "                                     y_pred = baseline_preds)\n",
        "\n",
        "baseline_results"
      ],
      "metadata": {
        "colab": {
          "base_uri": "https://localhost:8080/"
        },
        "id": "saPm7iS2IzRX",
        "outputId": "970d4ac3-77d6-4482-8917-5fa025899efc"
      },
      "execution_count": null,
      "outputs": [
        {
          "output_type": "execute_result",
          "data": {
            "text/plain": [
              "{'accuracy': 72.1832384482987,\n",
              " 'precision': 0.7186466952323352,\n",
              " 'recall': 0.7218323844829869,\n",
              " 'f1': 0.6989250353450294}"
            ]
          },
          "metadata": {},
          "execution_count": 26
        }
      ]
    },
    {
      "cell_type": "markdown",
      "source": [
        "## Turn the text into numeric format (preparing for deep sequence models)\n",
        "\n",
        "Create an embedding based upon tokenized words.\n",
        "\n",
        "Vectorization and embedding layers"
      ],
      "metadata": {
        "id": "o1tvM84fI_WP"
      }
    },
    {
      "cell_type": "code",
      "source": [
        "import numpy as np\n",
        "import tensorflow as tf\n",
        "from tensorflow.keras import layers"
      ],
      "metadata": {
        "id": "y7RwANcVLTFI"
      },
      "execution_count": null,
      "outputs": []
    },
    {
      "cell_type": "code",
      "source": [
        "# How long is each sentence on average\n",
        "sent_len = [len(sentence.split()) for sentence in train_sentences]\n",
        "avg_sent_len = np.mean(sent_len)\n",
        "avg_sent_len"
      ],
      "metadata": {
        "colab": {
          "base_uri": "https://localhost:8080/"
        },
        "id": "EDC7yllNLnWZ",
        "outputId": "397a451e-fcba-48d5-e37f-ede4549b96da"
      },
      "execution_count": null,
      "outputs": [
        {
          "output_type": "execute_result",
          "data": {
            "text/plain": [
              "26.338269273494777"
            ]
          },
          "metadata": {},
          "execution_count": 29
        }
      ]
    },
    {
      "cell_type": "code",
      "source": [
        "# Whats the distribution look like?\n",
        "import matplotlib.pyplot as plt\n",
        "plt.hist(sent_len, bins = 20);"
      ],
      "metadata": {
        "colab": {
          "base_uri": "https://localhost:8080/",
          "height": 265
        },
        "id": "8MfQ2gtZLq9o",
        "outputId": "146f24da-fbe7-4f9d-d773-9396f7f095fa"
      },
      "execution_count": null,
      "outputs": [
        {
          "output_type": "display_data",
          "data": {
            "text/plain": [
              "<Figure size 432x288 with 1 Axes>"
            ],
            "image/png": "[encoded data removed]"
          },
          "metadata": {
            "needs_background": "light"
          }
        }
      ]
    },
    {
      "cell_type": "code",
      "source": [
        "# What length sentence covers 95% of the data?\n",
        "output_seq_len = int(np.percentile(sent_len , 95))\n",
        "output_seq_len"
      ],
      "metadata": {
        "colab": {
          "base_uri": "https://localhost:8080/"
        },
        "id": "dGEzF8qWMUL5",
        "outputId": "7fc4be18-35e3-498e-9eb7-27ea3edd0b14"
      },
      "execution_count": null,
      "outputs": [
        {
          "output_type": "execute_result",
          "data": {
            "text/plain": [
              "55"
            ]
          },
          "metadata": {},
          "execution_count": 31
        }
      ]
    },
    {
      "cell_type": "code",
      "source": [
        "# Maximum sequence length\n",
        "max(sent_len)"
      ],
      "metadata": {
        "colab": {
          "base_uri": "https://localhost:8080/"
        },
        "id": "DiSp-dI-NB-J",
        "outputId": "c1b549d3-881c-48e8-9577-2fb95eced161"
      },
      "execution_count": null,
      "outputs": [
        {
          "output_type": "execute_result",
          "data": {
            "text/plain": [
              "296"
            ]
          },
          "metadata": {},
          "execution_count": 32
        }
      ]
    },
    {
      "cell_type": "markdown",
      "source": [
        "### Text vectorization layer\n",
        "\n",
        "I want a layer which maps the text from words to numbers"
      ],
      "metadata": {
        "id": "I8zVllHpNJhB"
      }
    },
    {
      "cell_type": "code",
      "source": [
        "# How many words are in the vocabulary? (taken from table 2 in paper)\n",
        "max_tokens = 68000\n"
      ],
      "metadata": {
        "id": "nHt7qM1cNbNB"
      },
      "execution_count": null,
      "outputs": []
    },
    {
      "cell_type": "code",
      "source": [
        "#Create text vectorizer\n",
        "from tensorflow.keras.layers import TextVectorization\n",
        "\n",
        "text_vectorizer = TextVectorization(max_tokens = max_tokens,\n",
        "                                    output_sequence_length = output_seq_len)"
      ],
      "metadata": {
        "id": "acHHAgGIOpm5"
      },
      "execution_count": null,
      "outputs": []
    },
    {
      "cell_type": "code",
      "source": [
        "# Adapt text vectorizer to training sentences\n",
        "text_vectorizer.adapt(train_sentences)"
      ],
      "metadata": {
        "id": "4uJJf_4CO0bT"
      },
      "execution_count": null,
      "outputs": []
    },
    {
      "cell_type": "code",
      "source": [
        "# Test out text vectorizer on random sentences\n",
        "import random\n",
        "target_sentence = random.choice(train_sentences)\n",
        "print(f\"Text:\\n{target_sentence}\")\n",
        "print(f\"\\nLength of text: {len(target_sentence.split())}\")\n",
        "print(f\"\\nVectorized Text: {text_vectorizer([target_sentence])}\")\n"
      ],
      "metadata": {
        "colab": {
          "base_uri": "https://localhost:8080/"
        },
        "id": "68z8uegVPlNq",
        "outputId": "dbb8def7-18bb-4fe3-b993-d059d979c12e"
      },
      "execution_count": null,
      "outputs": [
        {
          "output_type": "stream",
          "name": "stdout",
          "text": [
            "Text:\n",
            "patients randomized to propofol showed more episodes of hypoxemia ( @ vs. @ % , p = @ ) and hypotension ( @ vs. @ % , p < @ ) .\n",
            "\n",
            "Length of text: 32\n",
            "\n",
            "Vectorized Text: [[  12   29    6  914  147   69 1056    4 5742   44   14    3 1963   44\n",
            "    14    0    0    0    0    0    0    0    0    0    0    0    0    0\n",
            "     0    0    0    0    0    0    0    0    0    0    0    0    0    0\n",
            "     0    0    0    0    0    0    0    0    0    0    0    0    0]]\n"
          ]
        }
      ]
    },
    {
      "cell_type": "markdown",
      "source": [
        "### How many words in the training vocabulary?"
      ],
      "metadata": {
        "id": "mw0swHUiQPwr"
      }
    },
    {
      "cell_type": "code",
      "source": [
        "rct_20k_text_vocab = text_vectorizer.get_vocabulary()\n",
        "print(f\"Number of words in vocab: {len(rct_20k_text_vocab)}\")\n",
        "print(f\"Most common words in the vocab: {rct_20k_text_vocab[:5]}\")\n",
        "print(f\"Least common words in vocab: {rct_20k_text_vocab[-5:]}\")\n"
      ],
      "metadata": {
        "colab": {
          "base_uri": "https://localhost:8080/"
        },
        "id": "xvDtaDBxRUfq",
        "outputId": "3fed904c-3643-4159-f548-86594c9ed76b"
      },
      "execution_count": null,
      "outputs": [
        {
          "output_type": "stream",
          "name": "stdout",
          "text": [
            "Number of words in vocab: 64841\n",
            "Most common words in the vocab: ['', '[UNK]', 'the', 'and', 'of']\n",
            "Least common words in vocab: ['aainduced', 'aaigroup', 'aachener', 'aachen', 'aaacp']\n"
          ]
        }
      ]
    },
    {
      "cell_type": "markdown",
      "source": [
        "Get the config of the text vectorizer"
      ],
      "metadata": {
        "id": "hFHFLw6mR3gT"
      }
    },
    {
      "cell_type": "code",
      "source": [
        "text_vectorizer.get_config()"
      ],
      "metadata": {
        "colab": {
          "base_uri": "https://localhost:8080/"
        },
        "id": "HNkBxDa1SPuD",
        "outputId": "006d54e1-c5f5-40fd-b05b-d4fc1877ec15"
      },
      "execution_count": null,
      "outputs": [
        {
          "output_type": "execute_result",
          "data": {
            "text/plain": [
              "{'name': 'text_vectorization',\n",
              " 'trainable': True,\n",
              " 'batch_input_shape': (None,),\n",
              " 'dtype': 'string',\n",
              " 'max_tokens': 68000,\n",
              " 'standardize': 'lower_and_strip_punctuation',\n",
              " 'split': 'whitespace',\n",
              " 'ngrams': None,\n",
              " 'output_mode': 'int',\n",
              " 'output_sequence_length': 55,\n",
              " 'pad_to_max_tokens': False,\n",
              " 'sparse': False,\n",
              " 'ragged': False,\n",
              " 'vocabulary': None,\n",
              " 'idf_weights': None}"
            ]
          },
          "metadata": {},
          "execution_count": 38
        }
      ]
    },
    {
      "cell_type": "markdown",
      "source": [
        "### Create a custom embedding layer\n",
        "\n",
        "The text vectorizer converts words to numbers but DOES NOT capture the relationship between those numbers"
      ],
      "metadata": {
        "id": "kVhD6A84SVvL"
      }
    },
    {
      "cell_type": "code",
      "source": [
        "# Create token embedding layer\n",
        "token_embed = layers.Embedding(input_dim=len(rct_20k_text_vocab),\n",
        "                                output_dim = 128,\n",
        "                                mask_zero = True,\n",
        "                                name = \"token_embedding\")\n"
      ],
      "metadata": {
        "id": "iHwjl2nqSrE7"
      },
      "execution_count": null,
      "outputs": []
    },
    {
      "cell_type": "code",
      "source": [
        "# Show example embedding\n",
        "print(f\"Sentence before vectorization:\\n {target_sentence}\\n\")\n",
        "vectorized_sentence = text_vectorizer([target_sentence])\n",
        "print(f\"Sentence after vectorization (before embedding):\\n {vectorized_sentence}\\n\")\n",
        "embedded_sentence = token_embed(vectorized_sentence)\n",
        "print(f\"Sentence after embedding:\\n {embedded_sentence}\\n\")\n",
        "print(f\"Embedded sentence shape: {embedded_sentence.shape}\")"
      ],
      "metadata": {
        "colab": {
          "base_uri": "https://localhost:8080/"
        },
        "id": "QwNTD3E2Tytk",
        "outputId": "b4d5b325-e337-45c9-ad99-0bba6ef1d2cd"
      },
      "execution_count": null,
      "outputs": [
        {
          "output_type": "stream",
          "name": "stdout",
          "text": [
            "Sentence before vectorization:\n",
            " patients randomized to propofol showed more episodes of hypoxemia ( @ vs. @ % , p = @ ) and hypotension ( @ vs. @ % , p < @ ) .\n",
            "\n",
            "Sentence after vectorization (before embedding):\n",
            " [[  12   29    6  914  147   69 1056    4 5742   44   14    3 1963   44\n",
            "    14    0    0    0    0    0    0    0    0    0    0    0    0    0\n",
            "     0    0    0    0    0    0    0    0    0    0    0    0    0    0\n",
            "     0    0    0    0    0    0    0    0    0    0    0    0    0]]\n",
            "\n",
            "Sentence after embedding:\n",
            " [[[ 0.03294623 -0.03857844 -0.00996039 ... -0.01129782  0.03282722\n",
            "   -0.04700115]\n",
            "  [ 0.00414632 -0.02437282 -0.04162266 ... -0.007971   -0.02339361\n",
            "    0.03843881]\n",
            "  [ 0.03679341 -0.02122033 -0.03957995 ... -0.01869982  0.03275109\n",
            "    0.04481851]\n",
            "  ...\n",
            "  [-0.04560157 -0.01423783  0.0281553  ... -0.02474705 -0.01533588\n",
            "   -0.0052526 ]\n",
            "  [-0.04560157 -0.01423783  0.0281553  ... -0.02474705 -0.01533588\n",
            "   -0.0052526 ]\n",
            "  [-0.04560157 -0.01423783  0.0281553  ... -0.02474705 -0.01533588\n",
            "   -0.0052526 ]]]\n",
            "\n",
            "Embedded sentence shape: (1, 55, 128)\n"
          ]
        }
      ]
    },
    {
      "cell_type": "markdown",
      "source": [
        "### Creating datasets (making sure the data loads as fast as possible)\n",
        "\n",
        "I'm going to set up the data to run as fast as possible with the Tensorflow tf.dataAPI, many of the the steps are discussed in these two resources.\n",
        "\n",
        "\n"
      ],
      "metadata": {
        "id": "Mj5XXS46Uqxl"
      }
    },
    {
      "cell_type": "code",
      "source": [
        "# Turn the data into TensorFlow Datasets\n",
        "train_dataset = tf.data.Dataset.from_tensor_slices((train_sentences, train_labels_one_hot))\n",
        "valid_dataset = tf.data.Dataset.from_tensor_slices((val_sentences, val_labels_one_hot))\n",
        "test_dataset = tf.data.Dataset.from_tensor_slices((test_sentences, test_labels_one_hot))\n",
        "\n",
        "train_dataset\n",
        "\n"
      ],
      "metadata": {
        "colab": {
          "base_uri": "https://localhost:8080/"
        },
        "id": "cePgG60yo0MY",
        "outputId": "a3b6c7a2-038e-41c2-d2a7-76788480ddee"
      },
      "execution_count": null,
      "outputs": [
        {
          "output_type": "execute_result",
          "data": {
            "text/plain": [
              "<TensorSliceDataset element_spec=(TensorSpec(shape=(), dtype=tf.string, name=None), TensorSpec(shape=(5,), dtype=tf.float64, name=None))>"
            ]
          },
          "metadata": {},
          "execution_count": 41
        }
      ]
    },
    {
      "cell_type": "code",
      "source": [
        "# Take the TensorSliceDataset's and turn them into prefetched batches\n",
        "train_dataset = train_dataset.batch(32).prefetch(tf.data.AUTOTUNE)\n",
        "valid_dataset = valid_dataset.batch(32).prefetch(tf.data.AUTOTUNE)\n",
        "test_dataset = test_dataset.batch(32).prefetch(tf.data.AUTOTUNE)\n",
        "\n",
        "train_dataset"
      ],
      "metadata": {
        "colab": {
          "base_uri": "https://localhost:8080/"
        },
        "id": "lQMREDp9qiSd",
        "outputId": "9e3c1e2d-f657-4205-a853-b9b5d64cb00a"
      },
      "execution_count": null,
      "outputs": [
        {
          "output_type": "execute_result",
          "data": {
            "text/plain": [
              "<PrefetchDataset element_spec=(TensorSpec(shape=(None,), dtype=tf.string, name=None), TensorSpec(shape=(None, 5), dtype=tf.float64, name=None))>"
            ]
          },
          "metadata": {},
          "execution_count": 42
        }
      ]
    },
    {
      "cell_type": "markdown",
      "source": [
        "## Model 1: Conv1D with token embeddings"
      ],
      "metadata": {
        "id": "UGsL9JfNsAU3"
      }
    },
    {
      "cell_type": "code",
      "source": [
        "# Create 1D conv model to process sequences\n",
        "inputs = layers.Input(shape = (1,) , dtype = tf.string)\n",
        "text_vectors = text_vectorizer(inputs) # verctorize the text inputs\n",
        "token_embeddings = token_embed(text_vectors) # create the embeddings\n",
        "x = layers.Conv1D(64 , kernel_size = 5, padding = 'same' , activation = 'relu')(token_embeddings)\n",
        "x = layers.GlobalAveragePooling1D()(x) # condense the output\n",
        "outputs = layers.Dense(num_classes, activation = 'softmax')(x)\n",
        "model_1 = tf.keras.Model(inputs , outputs)\n",
        "\n",
        "# Compile\n",
        "model_1.compile(loss = 'categorical_crossentropy',\n",
        "                optimizer = tf.keras.optimizers.Adam(),\n",
        "                metrics = ['accuracy'])\n",
        "\n"
      ],
      "metadata": {
        "id": "pjMC6sUstM93"
      },
      "execution_count": null,
      "outputs": []
    },
    {
      "cell_type": "code",
      "source": [
        "model_1.summary()"
      ],
      "metadata": {
        "colab": {
          "base_uri": "https://localhost:8080/"
        },
        "id": "A2M6iFsiutjJ",
        "outputId": "4b701999-5e3f-4efb-cf90-e5e61334692a"
      },
      "execution_count": null,
      "outputs": [
        {
          "output_type": "stream",
          "name": "stdout",
          "text": [
            "Model: \"model\"\n",
            "_________________________________________________________________\n",
            " Layer (type)                Output Shape              Param #   \n",
            "=================================================================\n",
            " input_1 (InputLayer)        [(None, 1)]               0         \n",
            "                                                                 \n",
            " text_vectorization (TextVec  (None, 55)               0         \n",
            " torization)                                                     \n",
            "                                                                 \n",
            " token_embedding (Embedding)  (None, 55, 128)          8299648   \n",
            "                                                                 \n",
            " conv1d (Conv1D)             (None, 55, 64)            41024     \n",
            "                                                                 \n",
            " global_average_pooling1d (G  (None, 64)               0         \n",
            " lobalAveragePooling1D)                                          \n",
            "                                                                 \n",
            " dense (Dense)               (None, 5)                 325       \n",
            "                                                                 \n",
            "=================================================================\n",
            "Total params: 8,340,997\n",
            "Trainable params: 8,340,997\n",
            "Non-trainable params: 0\n",
            "_________________________________________________________________\n"
          ]
        }
      ]
    },
    {
      "cell_type": "code",
      "source": [
        "# Fit the model\n",
        "model_1_history = model_1.fit(train_dataset,\n",
        "                              steps_per_epoch=int(0.1 * len(train_dataset)), # only fit on 10% of batches for faster training time\n",
        "                              epochs=3,\n",
        "                              validation_data=valid_dataset,\n",
        "                              validation_steps=int(0.1 * len(valid_dataset))) # only validate on 10% of batches                              "
      ],
      "metadata": {
        "colab": {
          "base_uri": "https://localhost:8080/"
        },
        "id": "T1MxIuJIuvAQ",
        "outputId": "7042af2c-ca60-49aa-a887-0e19803d0544"
      },
      "execution_count": null,
      "outputs": [
        {
          "output_type": "stream",
          "name": "stdout",
          "text": [
            "Epoch 1/3\n",
            "562/562 [==============================] - 14s 10ms/step - loss: 0.9160 - accuracy: 0.6405 - val_loss: 0.6819 - val_accuracy: 0.7430\n",
            "Epoch 2/3\n",
            "562/562 [==============================] - 5s 8ms/step - loss: 0.6594 - accuracy: 0.7527 - val_loss: 0.6310 - val_accuracy: 0.7719\n",
            "Epoch 3/3\n",
            "562/562 [==============================] - 5s 8ms/step - loss: 0.6196 - accuracy: 0.7709 - val_loss: 0.5961 - val_accuracy: 0.7879\n"
          ]
        }
      ]
    },
    {
      "cell_type": "code",
      "source": [
        "# Evaluate on whole validation dataset\n",
        "model_1.evaluate(valid_dataset)"
      ],
      "metadata": {
        "colab": {
          "base_uri": "https://localhost:8080/"
        },
        "id": "_7BalX7BwCNR",
        "outputId": "5bf819f4-962b-42b5-969d-4e46fe210378"
      },
      "execution_count": null,
      "outputs": [
        {
          "output_type": "stream",
          "name": "stdout",
          "text": [
            "945/945 [==============================] - 3s 3ms/step - loss: 0.5995 - accuracy: 0.7866\n"
          ]
        },
        {
          "output_type": "execute_result",
          "data": {
            "text/plain": [
              "[0.5994637608528137, 0.7866079807281494]"
            ]
          },
          "metadata": {},
          "execution_count": 46
        }
      ]
    },
    {
      "cell_type": "code",
      "source": [
        "# Generate the predictions (prediction probabilities)\n",
        "model_1_pred_probs = model_1.predict(valid_dataset)\n",
        "\n",
        "# Convert pred prods to classes\n",
        "model_1_preds = tf.argmax(model_1_pred_probs , axis =1)\n",
        "model_1_preds"
      ],
      "metadata": {
        "colab": {
          "base_uri": "https://localhost:8080/"
        },
        "id": "OjVirvLswjQZ",
        "outputId": "c5b927f2-c3fe-4c06-bc23-19775d8b0bbe"
      },
      "execution_count": null,
      "outputs": [
        {
          "output_type": "stream",
          "name": "stdout",
          "text": [
            "945/945 [==============================] - 2s 2ms/step\n"
          ]
        },
        {
          "output_type": "execute_result",
          "data": {
            "text/plain": [
              "<tf.Tensor: shape=(30212,), dtype=int64, numpy=array([0, 0, 3, ..., 4, 1, 1])>"
            ]
          },
          "metadata": {},
          "execution_count": 47
        }
      ]
    },
    {
      "cell_type": "code",
      "source": [
        "# Calculate model_1 results\n",
        "model_1_results = calculate_results(y_true = val_labels_encoded,\n",
        "                                    y_pred = model_1_preds)\n",
        "model_1_results"
      ],
      "metadata": {
        "colab": {
          "base_uri": "https://localhost:8080/"
        },
        "id": "5oMy2QES6Rk9",
        "outputId": "ae311c36-df2f-4719-9125-9da504e6bf8e"
      },
      "execution_count": null,
      "outputs": [
        {
          "output_type": "execute_result",
          "data": {
            "text/plain": [
              "{'accuracy': 78.66079703429101,\n",
              " 'precision': 0.7831050940645707,\n",
              " 'recall': 0.7866079703429101,\n",
              " 'f1': 0.7840474876468563}"
            ]
          },
          "metadata": {},
          "execution_count": 48
        }
      ]
    },
    {
      "cell_type": "code",
      "source": [
        "baseline_results"
      ],
      "metadata": {
        "colab": {
          "base_uri": "https://localhost:8080/"
        },
        "id": "mSnROKiJ7BYl",
        "outputId": "da5ffe4d-078c-44d1-bb4d-bda943ddaf28"
      },
      "execution_count": null,
      "outputs": [
        {
          "output_type": "execute_result",
          "data": {
            "text/plain": [
              "{'accuracy': 72.1832384482987,\n",
              " 'precision': 0.7186466952323352,\n",
              " 'recall': 0.7218323844829869,\n",
              " 'f1': 0.6989250353450294}"
            ]
          },
          "metadata": {},
          "execution_count": 49
        }
      ]
    },
    {
      "cell_type": "markdown",
      "source": [
        "The model improved dramatically in all metrics compared to the base model (Multinomial Naives Bayes)"
      ],
      "metadata": {
        "id": "wg5Y-E2Aa7AO"
      }
    },
    {
      "cell_type": "markdown",
      "source": [
        "## Model 2: A Tensorflow Hub feature extractor with pretrained token embeddings\n",
        "\n",
        "Now let's use pretrained word embeddings from Tensorflow Hub. More specifically the universal sentence encoder\n",
        "\n",
        "https://tfhub.dev/google/universal-sentence-encoder/4\n",
        "\n",
        "I'm going to stick with the later created USE embeddings.\n",
        "\n",
        "Hugging face for more pretrained models\n",
        "\n",
        "https://huggingface.co/models\n"
      ],
      "metadata": {
        "id": "RpB5Dfxr7FtV"
      }
    },
    {
      "cell_type": "code",
      "source": [
        "# Download the pretrained TensorFlow Hub USE\n",
        "import tensorflow_hub as hub\n",
        "tf_hub_embedding_layer = hub.KerasLayer(\"https://tfhub.dev/google/universal-sentence-encoder/4\",\n",
        "                                        trainable = False,\n",
        "                                        name = \"universal_sentence_encoder\")"
      ],
      "metadata": {
        "id": "2yGGR8T97bCV"
      },
      "execution_count": null,
      "outputs": []
    },
    {
      "cell_type": "code",
      "source": [
        "# Test out the pretrained sentence embedding on a random sentence\n",
        "random_train_sentence = random.choice(train_sentences)\n",
        "print(f\"Random sentence: \\n {random_train_sentence}\")\n",
        "use_embedded_sentence = tf_hub_embedding_layer([random_train_sentence]) # We can pass text directly. No need to pass to a text vectorization layer first\n",
        "print(f\"Sentence after embedding:\\n{use_embedded_sentence[0][:30]}\")\n",
        "print(f\"Length of sentence embedding: {len(use_embedded_sentence[0])}\")\n"
      ],
      "metadata": {
        "colab": {
          "base_uri": "https://localhost:8080/"
        },
        "id": "qlgsVcuc_chQ",
        "outputId": "fe3585ac-0662-4222-be56-eba5ec6d0fdf"
      },
      "execution_count": null,
      "outputs": [
        {
          "output_type": "stream",
          "name": "stdout",
          "text": [
            "Random sentence: \n",
            " clinicaltrials.gov : nct@ , @ april @ @ .\n",
            "Sentence after embedding:\n",
            "[-0.00174534 -0.00273945  0.09785893 -0.0089642  -0.02484377  0.06439739\n",
            " -0.0362471   0.01182271 -0.04710772 -0.06577238 -0.0090582  -0.07907109\n",
            "  0.00991027  0.08052494  0.033532    0.02365818 -0.02402468 -0.01238231\n",
            "  0.04823853 -0.04409944 -0.01359891 -0.00936502 -0.00266661 -0.03823173\n",
            " -0.0933191  -0.02472186 -0.05512194  0.00903879 -0.01759215  0.07629112]\n",
            "Length of sentence embedding: 512\n"
          ]
        }
      ]
    },
    {
      "cell_type": "markdown",
      "source": [
        "### Building and fitting an NLP feature extraction model using pretrained embeddings TensorFlow Hub\n",
        " "
      ],
      "metadata": {
        "id": "vkLnrfIwAUgg"
      }
    },
    {
      "cell_type": "code",
      "source": [
        "# Define feature extraction model using TF Hub layer\n",
        "inputs = layers.Input(shape = [] , dtype = tf.string)\n",
        "pretrained_embedding = tf_hub_embedding_layer(inputs) # tokenize text and create embedding of each sequence (512 long vector)\n",
        "x = layers.Dense(128 , activation = 'relu')(pretrained_embedding)\n",
        "# You could add more layers if you want to\n",
        "outputs = layers.Dense(num_classes , activation = 'softmax')(x)\n",
        "model_2 = tf.keras.Model(inputs = inputs,\n",
        "                         outputs = outputs,\n",
        "                         name = \"model_2_USE_feature_extractor\")\n",
        "\n",
        "# Compile the model\n",
        "model_2.compile(loss = \"categorical_crossentropy\",\n",
        "                optimizer = tf.keras.optimizers.Adam(),\n",
        "                metrics = ['accuracy'])\n"
      ],
      "metadata": {
        "id": "kZtthU8zBwUa"
      },
      "execution_count": null,
      "outputs": []
    },
    {
      "cell_type": "code",
      "source": [
        "model_2.summary()"
      ],
      "metadata": {
        "colab": {
          "base_uri": "https://localhost:8080/"
        },
        "id": "NWPvjHfEDm3S",
        "outputId": "e93dec38-5bac-426f-cac0-4b23c6ed42ea"
      },
      "execution_count": null,
      "outputs": [
        {
          "output_type": "stream",
          "name": "stdout",
          "text": [
            "Model: \"model_2_USE_feature_extractor\"\n",
            "_________________________________________________________________\n",
            " Layer (type)                Output Shape              Param #   \n",
            "=================================================================\n",
            " input_2 (InputLayer)        [(None,)]                 0         \n",
            "                                                                 \n",
            " universal_sentence_encoder   (None, 512)              256797824 \n",
            " (KerasLayer)                                                    \n",
            "                                                                 \n",
            " dense_1 (Dense)             (None, 128)               65664     \n",
            "                                                                 \n",
            " dense_2 (Dense)             (None, 5)                 645       \n",
            "                                                                 \n",
            "=================================================================\n",
            "Total params: 256,864,133\n",
            "Trainable params: 66,309\n",
            "Non-trainable params: 256,797,824\n",
            "_________________________________________________________________\n"
          ]
        }
      ]
    },
    {
      "cell_type": "code",
      "source": [
        "# Fit model_2 to the data\n",
        "history_model_2 = model_2.fit(train_dataset,\n",
        "                              epochs = 3,\n",
        "                              steps_per_epoch = int(0.1 * len(train_dataset)),\n",
        "                              validation_data = valid_dataset,\n",
        "                              validation_steps = int(0.1 * len(valid_dataset)))\n"
      ],
      "metadata": {
        "colab": {
          "base_uri": "https://localhost:8080/"
        },
        "id": "nY2Du7qtDp86",
        "outputId": "767b61e2-7c40-4433-a326-5587251b4852"
      },
      "execution_count": null,
      "outputs": [
        {
          "output_type": "stream",
          "name": "stdout",
          "text": [
            "Epoch 1/3\n",
            "562/562 [==============================] - 9s 13ms/step - loss: 0.9150 - accuracy: 0.6509 - val_loss: 0.7948 - val_accuracy: 0.6885\n",
            "Epoch 2/3\n",
            "562/562 [==============================] - 7s 12ms/step - loss: 0.7686 - accuracy: 0.7016 - val_loss: 0.7555 - val_accuracy: 0.7018\n",
            "Epoch 3/3\n",
            "562/562 [==============================] - 7s 12ms/step - loss: 0.7521 - accuracy: 0.7114 - val_loss: 0.7392 - val_accuracy: 0.7131\n"
          ]
        }
      ]
    },
    {
      "cell_type": "code",
      "source": [
        "# Evaluate on the whole dataset\n",
        "model_2.evaluate(valid_dataset)"
      ],
      "metadata": {
        "colab": {
          "base_uri": "https://localhost:8080/"
        },
        "id": "mSiT6YK5EcH6",
        "outputId": "87b49b83-e032-446e-ba67-3a5fff08969e"
      },
      "execution_count": null,
      "outputs": [
        {
          "output_type": "stream",
          "name": "stdout",
          "text": [
            "945/945 [==============================] - 10s 10ms/step - loss: 0.7406 - accuracy: 0.7138\n"
          ]
        },
        {
          "output_type": "execute_result",
          "data": {
            "text/plain": [
              "[0.7406010627746582, 0.7138223052024841]"
            ]
          },
          "metadata": {},
          "execution_count": 55
        }
      ]
    },
    {
      "cell_type": "code",
      "source": [
        "# Make some predictions\n",
        "# Generate the predictions (prediction probabilities)\n",
        "model_2_pred_probs = model_2.predict(valid_dataset)\n",
        "\n",
        "# Convert pred prods to labels\n",
        "model_2_preds = tf.argmax(model_2_pred_probs , axis =1)\n",
        "model_2_preds"
      ],
      "metadata": {
        "colab": {
          "base_uri": "https://localhost:8080/"
        },
        "id": "rWJ3OLNyE1Pa",
        "outputId": "c71bf783-15a4-476d-e0e4-6bdb4ffc8371"
      },
      "execution_count": null,
      "outputs": [
        {
          "output_type": "stream",
          "name": "stdout",
          "text": [
            "945/945 [==============================] - 9s 10ms/step\n"
          ]
        },
        {
          "output_type": "execute_result",
          "data": {
            "text/plain": [
              "<tf.Tensor: shape=(30212,), dtype=int64, numpy=array([0, 1, 3, ..., 4, 4, 2])>"
            ]
          },
          "metadata": {},
          "execution_count": 56
        }
      ]
    },
    {
      "cell_type": "code",
      "source": [
        "# Calculate results from TF Hub pretrained embeddings results on val set\n",
        "model_2_results = calculate_results(y_true = val_labels_encoded,\n",
        "                                    y_pred = model_2_preds)\n",
        "model_2_results"
      ],
      "metadata": {
        "colab": {
          "base_uri": "https://localhost:8080/"
        },
        "id": "R7sDBU3ZFELa",
        "outputId": "3973c687-e3ca-4dc6-b704-d74d240fd74a"
      },
      "execution_count": null,
      "outputs": [
        {
          "output_type": "execute_result",
          "data": {
            "text/plain": [
              "{'accuracy': 71.38223222560572,\n",
              " 'precision': 0.7140500163952568,\n",
              " 'recall': 0.7138223222560572,\n",
              " 'f1': 0.7107770183083022}"
            ]
          },
          "metadata": {},
          "execution_count": 57
        }
      ]
    },
    {
      "cell_type": "markdown",
      "source": [
        "## Model 3: Conv1D with character embeddings\n",
        "\n",
        "The paper states they used a combo of token and character level embeddings.\n",
        "\n",
        "Previously, I used token level embeddings but I will need to do similar steps for characters if I want to use char-level embeddings\n"
      ],
      "metadata": {
        "id": "tb8sBbEqFfEr"
      }
    },
    {
      "cell_type": "markdown",
      "source": [
        "### Create a character level tokenizer"
      ],
      "metadata": {
        "id": "5MyqcNSTIGTd"
      }
    },
    {
      "cell_type": "code",
      "source": [
        "train_sentences[:5]"
      ],
      "metadata": {
        "colab": {
          "base_uri": "https://localhost:8080/"
        },
        "id": "utdxo-g2JJgk",
        "outputId": "57142b5e-ad41-4d58-ca18-23993940d838"
      },
      "execution_count": null,
      "outputs": [
        {
          "output_type": "execute_result",
          "data": {
            "text/plain": [
              "['to investigate the efficacy of @ weeks of daily low-dose oral prednisolone in improving pain , mobility , and systemic low-grade inflammation in the short term and whether the effect would be sustained at @ weeks in older adults with moderate to severe knee osteoarthritis ( oa ) .',\n",
              " 'a total of @ patients with primary knee oa were randomized @:@ ; @ received @ mg/day of prednisolone and @ received placebo for @ weeks .',\n",
              " 'outcome measures included pain reduction and improvement in function scores and systemic inflammation markers .',\n",
              " 'pain was assessed using the visual analog pain scale ( @-@ mm ) .',\n",
              " 'secondary outcome measures included the western ontario and mcmaster universities osteoarthritis index scores , patient global assessment ( pga ) of the severity of knee oa , and @-min walk distance ( @mwd ) .']"
            ]
          },
          "metadata": {},
          "execution_count": 58
        }
      ]
    },
    {
      "cell_type": "code",
      "source": [
        "def split_chars(text):\n",
        "  return \" \".join(list(text))\n",
        "\n",
        "# Text Splitting non-character level sequence into characters\n",
        "split_chars(random_train_sentence)"
      ],
      "metadata": {
        "colab": {
          "base_uri": "https://localhost:8080/",
          "height": 35
        },
        "id": "W_4eN3OiJOfN",
        "outputId": "cebaf88c-d921-4de6-cb31-b660e67533a3"
      },
      "execution_count": null,
      "outputs": [
        {
          "output_type": "execute_result",
          "data": {
            "text/plain": [
              "'c l i n i c a l t r i a l s . g o v   :   n c t @   ,   @   a p r i l   @   @   .'"
            ],
            "application/vnd.google.colaboratory.intrinsic+json": {
              "type": "string"
            }
          },
          "metadata": {},
          "execution_count": 59
        }
      ]
    },
    {
      "cell_type": "code",
      "source": [
        "# Split sequence-level data splits into character-level data splits\n",
        "train_chars = [split_chars(sentence) for sentence in train_sentences]\n",
        "val_chars = [split_chars(sentence) for sentence in val_sentences]\n",
        "test_chars = [split_chars(sentence) for sentence in test_sentences]\n",
        "train_chars[:5]"
      ],
      "metadata": {
        "colab": {
          "base_uri": "https://localhost:8080/"
        },
        "id": "OAiaMzw5JqpU",
        "outputId": "90fa2707-b169-4bcc-c354-194ad46ff060"
      },
      "execution_count": null,
      "outputs": [
        {
          "output_type": "execute_result",
          "data": {
            "text/plain": [
              "['t o   i n v e s t i g a t e   t h e   e f f i c a c y   o f   @   w e e k s   o f   d a i l y   l o w - d o s e   o r a l   p r e d n i s o l o n e   i n   i m p r o v i n g   p a i n   ,   m o b i l i t y   ,   a n d   s y s t e m i c   l o w - g r a d e   i n f l a m m a t i o n   i n   t h e   s h o r t   t e r m   a n d   w h e t h e r   t h e   e f f e c t   w o u l d   b e   s u s t a i n e d   a t   @   w e e k s   i n   o l d e r   a d u l t s   w i t h   m o d e r a t e   t o   s e v e r e   k n e e   o s t e o a r t h r i t i s   (   o a   )   .',\n",
              " 'a   t o t a l   o f   @   p a t i e n t s   w i t h   p r i m a r y   k n e e   o a   w e r e   r a n d o m i z e d   @ : @   ;   @   r e c e i v e d   @   m g / d a y   o f   p r e d n i s o l o n e   a n d   @   r e c e i v e d   p l a c e b o   f o r   @   w e e k s   .',\n",
              " 'o u t c o m e   m e a s u r e s   i n c l u d e d   p a i n   r e d u c t i o n   a n d   i m p r o v e m e n t   i n   f u n c t i o n   s c o r e s   a n d   s y s t e m i c   i n f l a m m a t i o n   m a r k e r s   .',\n",
              " 'p a i n   w a s   a s s e s s e d   u s i n g   t h e   v i s u a l   a n a l o g   p a i n   s c a l e   (   @ - @   m m   )   .',\n",
              " 's e c o n d a r y   o u t c o m e   m e a s u r e s   i n c l u d e d   t h e   w e s t e r n   o n t a r i o   a n d   m c m a s t e r   u n i v e r s i t i e s   o s t e o a r t h r i t i s   i n d e x   s c o r e s   ,   p a t i e n t   g l o b a l   a s s e s s m e n t   (   p g a   )   o f   t h e   s e v e r i t y   o f   k n e e   o a   ,   a n d   @ - m i n   w a l k   d i s t a n c e   (   @ m w d   )   .']"
            ]
          },
          "metadata": {},
          "execution_count": 60
        }
      ]
    },
    {
      "cell_type": "markdown",
      "source": [
        "### Looking at the character level distributions"
      ],
      "metadata": {
        "id": "0j-CaDzmLIt-"
      }
    },
    {
      "cell_type": "code",
      "source": [
        "# Whats the average character length?\n",
        "char_lens = [len(sentence) for sentence in train_sentences]\n",
        "mean_char_len = np.mean(char_lens)\n",
        "mean_char_len"
      ],
      "metadata": {
        "colab": {
          "base_uri": "https://localhost:8080/"
        },
        "id": "XvbfsV2lJ-ms",
        "outputId": "e5e67c74-7800-40d7-f2c9-3773f767ce49"
      },
      "execution_count": null,
      "outputs": [
        {
          "output_type": "execute_result",
          "data": {
            "text/plain": [
              "149.3662574983337"
            ]
          },
          "metadata": {},
          "execution_count": 61
        }
      ]
    },
    {
      "cell_type": "code",
      "source": [
        "# Check the distribution of the sequences at a character level\n",
        "import matplotlib.pyplot as plt\n",
        "plt.hist(char_lens , bins =20);"
      ],
      "metadata": {
        "colab": {
          "base_uri": "https://localhost:8080/",
          "height": 265
        },
        "id": "qTG-5OTUKw3d",
        "outputId": "8628992e-6867-44a1-8e61-6ab50fdf231a"
      },
      "execution_count": null,
      "outputs": [
        {
          "output_type": "display_data",
          "data": {
            "text/plain": [
              "<Figure size 432x288 with 1 Axes>"
            ],
            "image/png": "[encoded data removed]"
          },
          "metadata": {
            "needs_background": "light"
          }
        }
      ]
    },
    {
      "cell_type": "code",
      "source": [
        "# Find what character length covers 95% of sequences\n",
        "output_seq_char_len = int(np.percentile(char_lens , 95))\n",
        "output_seq_char_len"
      ],
      "metadata": {
        "colab": {
          "base_uri": "https://localhost:8080/"
        },
        "id": "4DM2iWHQLaht",
        "outputId": "d178d9e9-665e-4050-851b-f4e28e791465"
      },
      "execution_count": null,
      "outputs": [
        {
          "output_type": "execute_result",
          "data": {
            "text/plain": [
              "290"
            ]
          },
          "metadata": {},
          "execution_count": 63
        }
      ]
    },
    {
      "cell_type": "markdown",
      "source": [
        "### Create char-level token vectorizer instance"
      ],
      "metadata": {
        "id": "E11jkTwzODSl"
      }
    },
    {
      "cell_type": "code",
      "source": [
        "# Get all keyboard characters\n",
        "import string\n",
        "alphabet = string.ascii_lowercase + string.digits + string.punctuation\n",
        "len(alphabet)"
      ],
      "metadata": {
        "colab": {
          "base_uri": "https://localhost:8080/"
        },
        "id": "8fkI9ZkdL0v1",
        "outputId": "322942e6-cfe9-421e-82bd-952f13c7ad5a"
      },
      "execution_count": null,
      "outputs": [
        {
          "output_type": "execute_result",
          "data": {
            "text/plain": [
              "68"
            ]
          },
          "metadata": {},
          "execution_count": 64
        }
      ]
    },
    {
      "cell_type": "code",
      "source": [
        "# Create char-level token vectorizer instance\n",
        "NUM_CHAR_TOKENS = len(alphabet) + 2 # Add 2 for space and OOV token (Out of vocab [\"UNK\"])\n",
        "char_vectorizer = TextVectorization(max_tokens = NUM_CHAR_TOKENS,\n",
        "                                    output_sequence_length = output_seq_char_len,\n",
        "                                    name = 'char_vectorizer')"
      ],
      "metadata": {
        "id": "ldPR63BkNJFe"
      },
      "execution_count": null,
      "outputs": []
    },
    {
      "cell_type": "code",
      "source": [
        "# Adapt character vectorizer to training characters\n",
        "char_vectorizer.adapt(train_chars)\n"
      ],
      "metadata": {
        "id": "5YLb49wLN-um"
      },
      "execution_count": null,
      "outputs": []
    },
    {
      "cell_type": "code",
      "source": [
        "# Check character vocab stats\n",
        "char_vocab = char_vectorizer.get_vocabulary()\n",
        "print(f\"Number of different characters in character vocab: {len(char_vocab)}\")\n",
        "print(f\"5 most common characters: {char_vocab[:5]}\")\n",
        "print(f\"5 least common characters {char_vocab[-5:]}\")"
      ],
      "metadata": {
        "colab": {
          "base_uri": "https://localhost:8080/"
        },
        "id": "oJNjYhw2ORGP",
        "outputId": "730322ba-b17d-441b-a1a1-c0c30ece0a25"
      },
      "execution_count": null,
      "outputs": [
        {
          "output_type": "stream",
          "name": "stdout",
          "text": [
            "Number of different characters in character vocab: 28\n",
            "5 most common characters: ['', '[UNK]', 'e', 't', 'i']\n",
            "5 least common characters ['k', 'x', 'z', 'q', 'j']\n"
          ]
        }
      ]
    },
    {
      "cell_type": "code",
      "source": [
        "# Test out character vectorizer\n",
        "random_train_chars = random.choice(train_chars)\n",
        "print(f\"Charified text:\\n {random_train_chars}\")\n",
        "print(f\"Length of random_train_chars: {len(random_train_chars.split())}\")\n",
        "vectorized_chars = char_vectorizer([random_train_chars])\n",
        "print(f\"\\nVectorized Chars:\\n {vectorized_chars}\")\n",
        "print(f\"\\nLength of vectorized chars: {len(vectorized_chars[0])}\")"
      ],
      "metadata": {
        "colab": {
          "base_uri": "https://localhost:8080/"
        },
        "id": "JZqOTHYEO1Q_",
        "outputId": "c77a14b3-5cf3-4890-c16e-3a5fd4cf5a70"
      },
      "execution_count": null,
      "outputs": [
        {
          "output_type": "stream",
          "name": "stdout",
          "text": [
            "Charified text:\n",
            " s a p r o p t e r i n   ,   a n   o r a l   s y n t h e t i c   a n a l o g u e   o f   b h @   ,   a t   t h e   u s e d   d o s e   d i d   n o t   r e d u c e   p o r t a l   p r e s s u r e   i n   p a t i e n t s   w i t h   c i r r h o s i s   .\n",
            "Length of random_train_chars: 104\n",
            "\n",
            "Vectorized Chars:\n",
            " [[ 9  5 14  8  7 14  3  2  8  4  6  5  6  7  8  5 12  9 19  6  3 13  2  3\n",
            "   4 11  5  6  5 12  7 18 16  2  7 17 22 13  5  3  3 13  2 16  9  2 10 10\n",
            "   7  9  2 10  4 10  6  7  3  8  2 10 16 11  2 14  7  8  3  5 12 14  8  2\n",
            "   9  9 16  8  2  4  6 14  5  3  4  2  6  3  9 20  4  3 13 11  4  8  8 13\n",
            "   7  9  4  9  0  0  0  0  0  0  0  0  0  0  0  0  0  0  0  0  0  0  0  0\n",
            "   0  0  0  0  0  0  0  0  0  0  0  0  0  0  0  0  0  0  0  0  0  0  0  0\n",
            "   0  0  0  0  0  0  0  0  0  0  0  0  0  0  0  0  0  0  0  0  0  0  0  0\n",
            "   0  0  0  0  0  0  0  0  0  0  0  0  0  0  0  0  0  0  0  0  0  0  0  0\n",
            "   0  0  0  0  0  0  0  0  0  0  0  0  0  0  0  0  0  0  0  0  0  0  0  0\n",
            "   0  0  0  0  0  0  0  0  0  0  0  0  0  0  0  0  0  0  0  0  0  0  0  0\n",
            "   0  0  0  0  0  0  0  0  0  0  0  0  0  0  0  0  0  0  0  0  0  0  0  0\n",
            "   0  0  0  0  0  0  0  0  0  0  0  0  0  0  0  0  0  0  0  0  0  0  0  0\n",
            "   0  0]]\n",
            "\n",
            "Length of vectorized chars: 290\n"
          ]
        }
      ]
    },
    {
      "cell_type": "markdown",
      "source": [
        "### Create the character level embedding"
      ],
      "metadata": {
        "id": "8LUB0NY7QYnw"
      }
    },
    {
      "cell_type": "code",
      "source": [
        "# Create char embedding layer\n",
        "char_embed = layers.Embedding(input_dim = len(char_vocab),\n",
        "                              output_dim = 25 ,\n",
        "                              mask_zero = True,\n",
        "                              name = 'char_embed')\n"
      ],
      "metadata": {
        "id": "QXoD3XJhSaWI"
      },
      "execution_count": null,
      "outputs": []
    },
    {
      "cell_type": "code",
      "source": [
        "# Test out the character embedding layer\n",
        "print(f\"Charified text:\\n {random_train_chars}\\n\")\n",
        "char_embed_example = char_embed(char_vectorizer([random_train_chars]))\n",
        "print(f\"Embedded chars (after vectorization and embedding):\\n {char_embed_example}\")\n",
        "print(f\"Character embedding shape: {char_embed_example.shape}\")"
      ],
      "metadata": {
        "colab": {
          "base_uri": "https://localhost:8080/"
        },
        "id": "TbyWL607TCBw",
        "outputId": "2ea36114-1c0c-4dde-abab-567dc567740a"
      },
      "execution_count": null,
      "outputs": [
        {
          "output_type": "stream",
          "name": "stdout",
          "text": [
            "Charified text:\n",
            " s a p r o p t e r i n   ,   a n   o r a l   s y n t h e t i c   a n a l o g u e   o f   b h @   ,   a t   t h e   u s e d   d o s e   d i d   n o t   r e d u c e   p o r t a l   p r e s s u r e   i n   p a t i e n t s   w i t h   c i r r h o s i s   .\n",
            "\n",
            "Embedded chars (after vectorization and embedding):\n",
            " [[[ 0.02481511  0.00158959  0.01577851 ... -0.01074549 -0.02244039\n",
            "   -0.01494753]\n",
            "  [ 0.04021137 -0.02773662  0.03254927 ... -0.01799086  0.01653688\n",
            "   -0.00580022]\n",
            "  [-0.02038038  0.00724634 -0.03745086 ...  0.00055789  0.02488076\n",
            "    0.02015156]\n",
            "  ...\n",
            "  [ 0.03698153 -0.02083775  0.02202702 ...  0.0380294   0.04870517\n",
            "   -0.00615656]\n",
            "  [ 0.03698153 -0.02083775  0.02202702 ...  0.0380294   0.04870517\n",
            "   -0.00615656]\n",
            "  [ 0.03698153 -0.02083775  0.02202702 ...  0.0380294   0.04870517\n",
            "   -0.00615656]]]\n",
            "Character embedding shape: (1, 290, 25)\n"
          ]
        }
      ]
    },
    {
      "cell_type": "markdown",
      "source": [
        "### Building Model 3"
      ],
      "metadata": {
        "id": "BCGw0VP2T2Vx"
      }
    },
    {
      "cell_type": "code",
      "source": [
        "# Create 1D conv model to process sequences\n",
        "inputs = layers.Input(shape = (1,) , dtype = tf.string)\n",
        "char_vectors = char_vectorizer(inputs) # verctorize the text inputs\n",
        "char_embeddings = char_embed(char_vectors) # create the embeddings\n",
        "x = layers.Conv1D(64 , kernel_size = 5, padding = 'same' , activation = 'relu')(char_embeddings)\n",
        "x = layers.GlobalMaxPool1D()(x) # condense the output\n",
        "outputs = layers.Dense(num_classes, activation = 'softmax')(x)\n",
        "model_3 = tf.keras.Model(inputs = inputs , outputs = outputs , name = \"model_3_conv1d_char_embeddings\")\n",
        "\n",
        "# Compile\n",
        "model_3.compile(loss = \"categorical_crossentropy\" , \n",
        "                optimizer = tf.keras.optimizers.Adam(),\n",
        "                metrics = ['accuracy'])\n"
      ],
      "metadata": {
        "id": "xdnS1IMOUk8Y"
      },
      "execution_count": null,
      "outputs": []
    },
    {
      "cell_type": "code",
      "source": [
        "# Summary\n",
        "model_3.summary()"
      ],
      "metadata": {
        "colab": {
          "base_uri": "https://localhost:8080/"
        },
        "id": "a1mPn6trV2w7",
        "outputId": "8ef06a87-a723-4892-a2b2-ad7030fcf94b"
      },
      "execution_count": null,
      "outputs": [
        {
          "output_type": "stream",
          "name": "stdout",
          "text": [
            "Model: \"model_3_conv1d_char_embeddings\"\n",
            "_________________________________________________________________\n",
            " Layer (type)                Output Shape              Param #   \n",
            "=================================================================\n",
            " input_3 (InputLayer)        [(None, 1)]               0         \n",
            "                                                                 \n",
            " char_vectorizer (TextVector  (None, 290)              0         \n",
            " ization)                                                        \n",
            "                                                                 \n",
            " char_embed (Embedding)      (None, 290, 25)           700       \n",
            "                                                                 \n",
            " conv1d_1 (Conv1D)           (None, 290, 64)           8064      \n",
            "                                                                 \n",
            " global_max_pooling1d (Globa  (None, 64)               0         \n",
            " lMaxPooling1D)                                                  \n",
            "                                                                 \n",
            " dense_3 (Dense)             (None, 5)                 325       \n",
            "                                                                 \n",
            "=================================================================\n",
            "Total params: 9,089\n",
            "Trainable params: 9,089\n",
            "Non-trainable params: 0\n",
            "_________________________________________________________________\n"
          ]
        }
      ]
    },
    {
      "cell_type": "markdown",
      "source": [
        "### Create char level datasets\n"
      ],
      "metadata": {
        "id": "ms9AwMFTV6Nh"
      }
    },
    {
      "cell_type": "code",
      "source": [
        "train_char_dataset = tf.data.Dataset.from_tensor_slices((train_chars , train_labels_one_hot)).batch(32).prefetch(tf.data.AUTOTUNE)\n",
        "val_char_dataset = tf.data.Dataset.from_tensor_slices((val_chars , val_labels_one_hot)).batch(32).prefetch(tf.data.AUTOTUNE)\n",
        "test_char_dataset = tf.data.Dataset.from_tensor_slices((test_chars , test_labels_one_hot)).batch(32).prefetch(tf.data.AUTOTUNE)\n",
        "\n",
        "train_char_dataset\n"
      ],
      "metadata": {
        "colab": {
          "base_uri": "https://localhost:8080/"
        },
        "id": "2W9XT5mUXkKL",
        "outputId": "83690279-5be6-4d9a-bf63-28e21955547b"
      },
      "execution_count": null,
      "outputs": [
        {
          "output_type": "execute_result",
          "data": {
            "text/plain": [
              "<PrefetchDataset element_spec=(TensorSpec(shape=(None,), dtype=tf.string, name=None), TensorSpec(shape=(None, 5), dtype=tf.float64, name=None))>"
            ]
          },
          "metadata": {},
          "execution_count": 78
        }
      ]
    },
    {
      "cell_type": "markdown",
      "source": [
        "### Fit Model 3"
      ],
      "metadata": {
        "id": "RtW6oZZiYH4b"
      }
    },
    {
      "cell_type": "code",
      "source": [
        "model_3_history = model_3.fit(train_char_dataset,\n",
        "                              steps_per_epoch = int(0.1 * len(train_char_dataset)),\n",
        "                              epochs = 3,\n",
        "                              validation_data = val_char_dataset,\n",
        "                              validation_steps = int(0.1 * len(val_char_dataset)))"
      ],
      "metadata": {
        "colab": {
          "base_uri": "https://localhost:8080/"
        },
        "id": "7io5eVDtYTLa",
        "outputId": "b802df43-5f6b-441d-c1e7-13283bb57f60"
      },
      "execution_count": null,
      "outputs": [
        {
          "output_type": "stream",
          "name": "stdout",
          "text": [
            "Epoch 1/3\n",
            "562/562 [==============================] - 4s 5ms/step - loss: 1.2633 - accuracy: 0.4937 - val_loss: 1.0331 - val_accuracy: 0.5931\n",
            "Epoch 2/3\n",
            "562/562 [==============================] - 3s 5ms/step - loss: 0.9904 - accuracy: 0.6027 - val_loss: 0.9227 - val_accuracy: 0.6217\n",
            "Epoch 3/3\n",
            "562/562 [==============================] - 3s 5ms/step - loss: 0.9076 - accuracy: 0.6446 - val_loss: 0.8499 - val_accuracy: 0.6659\n"
          ]
        }
      ]
    },
    {
      "cell_type": "markdown",
      "source": [
        "### Predictions with model 3"
      ],
      "metadata": {
        "id": "TYdveBEJaD3z"
      }
    },
    {
      "cell_type": "code",
      "source": [
        "# Make predictions\n",
        "model_3_pred_probs = model_3.predict(val_char_dataset)\n",
        "model_3_pred_probs"
      ],
      "metadata": {
        "colab": {
          "base_uri": "https://localhost:8080/"
        },
        "id": "KJElXkCyaufc",
        "outputId": "b21c08f0-fff6-4b56-971c-972375d398f2"
      },
      "execution_count": null,
      "outputs": [
        {
          "output_type": "stream",
          "name": "stdout",
          "text": [
            "945/945 [==============================] - 2s 2ms/step\n"
          ]
        },
        {
          "output_type": "execute_result",
          "data": {
            "text/plain": [
              "array([[0.1366614 , 0.42908508, 0.18378803, 0.22924183, 0.02122376],\n",
              "       [0.15081756, 0.6104127 , 0.01694288, 0.15371087, 0.06811604],\n",
              "       [0.0699271 , 0.18459074, 0.05921027, 0.6538444 , 0.03242746],\n",
              "       ...,\n",
              "       [0.01684124, 0.02348465, 0.15309003, 0.05635588, 0.75022817],\n",
              "       [0.02713533, 0.07823037, 0.45144323, 0.03160518, 0.4115858 ],\n",
              "       [0.29767895, 0.5982461 , 0.04706093, 0.05147812, 0.00553587]],\n",
              "      dtype=float32)"
            ]
          },
          "metadata": {},
          "execution_count": 80
        }
      ]
    },
    {
      "cell_type": "code",
      "source": [
        "# Convert prediction probabilites to class labels\n",
        "model_3_preds = tf.argmax(model_3_pred_probs , axis = 1)\n",
        "model_3_preds"
      ],
      "metadata": {
        "colab": {
          "base_uri": "https://localhost:8080/"
        },
        "id": "V03OX3sRa88r",
        "outputId": "09487c1d-a194-491a-9bca-4a6718007bbc"
      },
      "execution_count": null,
      "outputs": [
        {
          "output_type": "execute_result",
          "data": {
            "text/plain": [
              "<tf.Tensor: shape=(30212,), dtype=int64, numpy=array([1, 1, 3, ..., 4, 2, 1])>"
            ]
          },
          "metadata": {},
          "execution_count": 81
        }
      ]
    },
    {
      "cell_type": "code",
      "source": [
        "# Calculate results\n",
        "model_3_results = calculate_results(y_true = val_labels_encoded,\n",
        "                                    y_pred = model_3_preds)\n",
        "\n",
        "model_3_results\n"
      ],
      "metadata": {
        "colab": {
          "base_uri": "https://localhost:8080/"
        },
        "id": "tutkI4TxbJKE",
        "outputId": "29d21c60-62ca-4ae4-f473-38839545dc28"
      },
      "execution_count": null,
      "outputs": [
        {
          "output_type": "execute_result",
          "data": {
            "text/plain": [
              "{'accuracy': 66.18562160730835,\n",
              " 'precision': 0.6586884158609747,\n",
              " 'recall': 0.6618562160730835,\n",
              " 'f1': 0.6518990175538877}"
            ]
          },
          "metadata": {},
          "execution_count": 82
        }
      ]
    },
    {
      "cell_type": "code",
      "source": [
        "baseline_results"
      ],
      "metadata": {
        "colab": {
          "base_uri": "https://localhost:8080/"
        },
        "id": "lpzU8oHYbbaU",
        "outputId": "cf08c617-41db-48a3-e227-42a08dd3d1c9"
      },
      "execution_count": null,
      "outputs": [
        {
          "output_type": "execute_result",
          "data": {
            "text/plain": [
              "{'accuracy': 72.1832384482987,\n",
              " 'precision': 0.7186466952323352,\n",
              " 'recall': 0.7218323844829869,\n",
              " 'f1': 0.6989250353450294}"
            ]
          },
          "metadata": {},
          "execution_count": 83
        }
      ]
    },
    {
      "cell_type": "markdown",
      "source": [
        "As expected, a model that ONLY takes in the character embeddings does not perform as well as a model that uses word embeddings as input."
      ],
      "metadata": {
        "id": "Q_7u9GlkeChF"
      }
    },
    {
      "cell_type": "markdown",
      "source": [
        "## Model 4: Using combined Token AND character embreddings in the model (Multi-Input)\n",
        "\n",
        "1. Create a token level embedding (similar to model 1)\n",
        "2. Create a character level embedding (similar to model 3 with slight modificaiton)\n",
        "3. Combine 1 & 2 with a concatenate ('layers.Concatenate')\n",
        "4. Build a series of output layers on top of 3 similar to figure 1 in the paper.\n",
        "5. Construct a model which takes token and character-level sequences as input and produces sequence label probabilities as output\n"
      ],
      "metadata": {
        "id": "VS3Lrzh4bhmk"
      }
    },
    {
      "cell_type": "markdown",
      "source": [
        "### Creating the model"
      ],
      "metadata": {
        "id": "YQvhYZAtzIwB"
      }
    },
    {
      "cell_type": "code",
      "source": [
        "# 1. Setup token inputs/model\n",
        "token_inputs = layers.Input(shape = [] , dtype = tf.string , name = 'token_input')\n",
        "token_embeddings = tf_hub_embedding_layer(token_inputs)\n",
        "token_outputs = layers.Dense(128 , activation = 'relu')(token_embeddings)\n",
        "token_model = tf.keras.Model(inputs = token_inputs,\n",
        "                             outputs = token_outputs)\n",
        "\n"
      ],
      "metadata": {
        "id": "0xhrYApkrgCM"
      },
      "execution_count": null,
      "outputs": []
    },
    {
      "cell_type": "code",
      "source": [
        "# 2. Create the Character level embedding/model\n",
        "char_inputs = layers.Input(shape = (1,) , dtype = tf.string , name = 'char_input')\n",
        "char_vectors = char_vectorizer(char_inputs)\n",
        "char_embeddings = char_embed(char_vectors)\n",
        "char_bi_lstm = layers.Bidirectional(layers.LSTM(24))(char_embeddings) # bi-LSTM\n",
        "char_model = tf.keras.Model(inputs = char_inputs,\n",
        "                            outputs = char_bi_lstm)"
      ],
      "metadata": {
        "id": "rkDKiKA6vCAg"
      },
      "execution_count": null,
      "outputs": []
    },
    {
      "cell_type": "code",
      "source": [
        "# 3. Concatenating the layers (hybrid token embedding)\n",
        "token_char_concat = layers.Concatenate(name = \"token_char_hybrid\")([token_model.output,\n",
        "                                                                    char_model.output])"
      ],
      "metadata": {
        "id": "1josfdUEv442"
      },
      "execution_count": null,
      "outputs": []
    },
    {
      "cell_type": "code",
      "source": [
        "# 4. Create the outputput layers - adding in the Dropout\n",
        "combined_dropout = layers.Dropout(0.5)(token_char_concat)\n",
        "combined_dense = layers.Dense(128 , activation = 'relu')(combined_dropout)\n",
        "final_dropout = layers.Dropout(0.5)(combined_dense)\n",
        "output_layer = layers.Dense(num_classes , activation = 'softmax')(final_dropout)\n",
        "\n"
      ],
      "metadata": {
        "id": "1Co6fkYxw175"
      },
      "execution_count": null,
      "outputs": []
    },
    {
      "cell_type": "code",
      "source": [
        "# 5. Construct the model with char and token inputs\n",
        "model_4 = tf.keras.Model(inputs = [token_model.input , char_model.input],\n",
        "                         outputs = output_layer,\n",
        "                         name = \"model_4_token_and_char_embeddings\")"
      ],
      "metadata": {
        "id": "n8QjZ5S5yULB"
      },
      "execution_count": null,
      "outputs": []
    },
    {
      "cell_type": "markdown",
      "source": [
        "### Plot the hybrid model"
      ],
      "metadata": {
        "id": "Is0cyapJy2LK"
      }
    },
    {
      "cell_type": "code",
      "source": [
        "from keras.utils.vis_utils import plot_model"
      ],
      "metadata": {
        "id": "bs6X0hM10hF5"
      },
      "execution_count": null,
      "outputs": []
    },
    {
      "cell_type": "code",
      "source": [
        "plot_model(model_4 , show_shapes=True)"
      ],
      "metadata": {
        "colab": {
          "base_uri": "https://localhost:8080/",
          "height": 976
        },
        "id": "tSYRtck50xIp",
        "outputId": "803e1a44-32c2-4a25-fd5c-b87c890519c7"
      },
      "execution_count": null,
      "outputs": [
        {
          "output_type": "execute_result",
          "data": {
            "image/png": "[encoded data removed]",
            "text/plain": [
              "<IPython.core.display.Image object>"
            ]
          },
          "metadata": {},
          "execution_count": 90
        }
      ]
    },
    {
      "cell_type": "markdown",
      "source": [
        "### Compile the model\n"
      ],
      "metadata": {
        "id": "9V6_rGGH0y-R"
      }
    },
    {
      "cell_type": "code",
      "source": [
        "model_4.compile(loss = \"categorical_crossentropy\",\n",
        "                optimizer = tf.keras.optimizers.Adam(),\n",
        "                metrics = ['accuracy'])"
      ],
      "metadata": {
        "id": "YcBWgJNN2HRJ"
      },
      "execution_count": null,
      "outputs": []
    },
    {
      "cell_type": "markdown",
      "source": [
        "### Creating the tf.data.Dataset for training and validation data"
      ],
      "metadata": {
        "id": "uk1l7E-i4Aqz"
      }
    },
    {
      "cell_type": "code",
      "source": [
        "# Combine the tokens into a dataset\n",
        "train_char_token_data = tf.data.Dataset.from_tensor_slices((train_sentences , train_chars)) #make data\n",
        "train_char_token_labels = tf.data.Dataset.from_tensor_slices(train_labels_one_hot) #make labels\n",
        "train_char_token_dataset = tf.data.Dataset.zip((train_char_token_data , train_char_token_labels))\n",
        "\n",
        "# Prefetch and batch the train data\n",
        "train_char_token_dataset = train_char_token_dataset.batch(32).prefetch(tf.data.AUTOTUNE)\n",
        "\n"
      ],
      "metadata": {
        "id": "rn018yrg4FsK"
      },
      "execution_count": null,
      "outputs": []
    },
    {
      "cell_type": "code",
      "source": [
        "# Repeat the above steps for the validation data\n",
        "val_char_token_data = tf.data.Dataset.from_tensor_slices((val_sentences , val_chars)) #make data\n",
        "val_char_token_labels = tf.data.Dataset.from_tensor_slices(val_labels_one_hot) #make labels\n",
        "val_char_token_dataset = tf.data.Dataset.zip((val_char_token_data , val_char_token_labels))\n",
        "\n",
        "# Prefetch\n",
        "val_char_token_dataset = val_char_token_dataset.batch(32).prefetch(tf.data.AUTOTUNE)\n"
      ],
      "metadata": {
        "id": "AIp9rPog6vLM"
      },
      "execution_count": null,
      "outputs": []
    },
    {
      "cell_type": "code",
      "source": [
        "# Check out the training char and token embedding dataset\n",
        "train_char_token_dataset , val_char_token_dataset"
      ],
      "metadata": {
        "colab": {
          "base_uri": "https://localhost:8080/"
        },
        "id": "qjchT1Og7cJM",
        "outputId": "860ecd50-f7b8-4983-8434-a2a5038e5daa"
      },
      "execution_count": null,
      "outputs": [
        {
          "output_type": "execute_result",
          "data": {
            "text/plain": [
              "(<PrefetchDataset element_spec=((TensorSpec(shape=(None,), dtype=tf.string, name=None), TensorSpec(shape=(None,), dtype=tf.string, name=None)), TensorSpec(shape=(None, 5), dtype=tf.float64, name=None))>,\n",
              " <PrefetchDataset element_spec=((TensorSpec(shape=(None,), dtype=tf.string, name=None), TensorSpec(shape=(None,), dtype=tf.string, name=None)), TensorSpec(shape=(None, 5), dtype=tf.float64, name=None))>)"
            ]
          },
          "metadata": {},
          "execution_count": 95
        }
      ]
    },
    {
      "cell_type": "markdown",
      "source": [
        "### Fitting a model on token and character-level sequences"
      ],
      "metadata": {
        "id": "pZupF-_v7qQk"
      }
    },
    {
      "cell_type": "code",
      "source": [
        "history_model_4 = model_4.fit(train_char_token_dataset,\n",
        "                              steps_per_epoch = int(0.1 * len(train_char_token_dataset)),\n",
        "                              epochs = 3,\n",
        "                              validation_data = val_char_token_dataset,\n",
        "                              validation_steps = int(0.1 * len(train_char_token_dataset)))"
      ],
      "metadata": {
        "colab": {
          "base_uri": "https://localhost:8080/"
        },
        "id": "N_3Hum5L8Kv0",
        "outputId": "f4658f4c-f2a9-4047-dd86-a2681914a078"
      },
      "execution_count": null,
      "outputs": [
        {
          "output_type": "stream",
          "name": "stdout",
          "text": [
            "Epoch 1/3\n",
            "562/562 [==============================] - 46s 67ms/step - loss: 0.9917 - accuracy: 0.6027 - val_loss: 0.7832 - val_accuracy: 0.7015\n",
            "Epoch 2/3\n",
            "562/562 [==============================] - 35s 62ms/step - loss: 0.8026 - accuracy: 0.6888 - val_loss: 0.7124 - val_accuracy: 0.7301\n",
            "Epoch 3/3\n",
            "562/562 [==============================] - 32s 58ms/step - loss: 0.7789 - accuracy: 0.7031 - val_loss: 0.6956 - val_accuracy: 0.7341\n"
          ]
        }
      ]
    },
    {
      "cell_type": "markdown",
      "source": [
        "### Make predictions and evaluate\n"
      ],
      "metadata": {
        "id": "HPDsFxUh9DQF"
      }
    },
    {
      "cell_type": "code",
      "source": [
        "model_4.evaluate(val_char_token_dataset)"
      ],
      "metadata": {
        "colab": {
          "base_uri": "https://localhost:8080/"
        },
        "id": "8a-CbYjo-RDu",
        "outputId": "f5e02092-d512-43a9-d3ee-38b2bb462fef"
      },
      "execution_count": null,
      "outputs": [
        {
          "output_type": "stream",
          "name": "stdout",
          "text": [
            "945/945 [==============================] - 20s 22ms/step - loss: 0.7012 - accuracy: 0.7325\n"
          ]
        },
        {
          "output_type": "execute_result",
          "data": {
            "text/plain": [
              "[0.7012079954147339, 0.7324904203414917]"
            ]
          },
          "metadata": {},
          "execution_count": 97
        }
      ]
    },
    {
      "cell_type": "code",
      "source": [
        "# Make predictions using the hybrid model (model 4)\n",
        "model_4_pred_probs = model_4.predict(val_char_token_dataset)\n",
        "model_4_pred_probs\n"
      ],
      "metadata": {
        "colab": {
          "base_uri": "https://localhost:8080/"
        },
        "id": "G9JGVtWj94b9",
        "outputId": "094ca657-8baa-453d-a524-56a1d06e4c5a"
      },
      "execution_count": null,
      "outputs": [
        {
          "output_type": "stream",
          "name": "stdout",
          "text": [
            "945/945 [==============================] - 22s 21ms/step\n"
          ]
        },
        {
          "output_type": "execute_result",
          "data": {
            "text/plain": [
              "array([[4.0956268e-01, 4.0647382e-01, 5.4622726e-03, 1.7133400e-01,\n",
              "        7.1672117e-03],\n",
              "       [3.7981451e-01, 4.1010749e-01, 4.0190271e-03, 2.0252965e-01,\n",
              "        3.5293172e-03],\n",
              "       [2.8533500e-01, 1.7605902e-01, 5.5963185e-02, 4.4254512e-01,\n",
              "        4.0097632e-02],\n",
              "       ...,\n",
              "       [4.9774605e-04, 8.8868113e-03, 5.3856906e-02, 2.0492528e-04,\n",
              "        9.3655366e-01],\n",
              "       [5.9419656e-03, 5.8658563e-02, 2.3925146e-01, 3.3715253e-03,\n",
              "        6.9277650e-01],\n",
              "       [2.5705260e-01, 4.2219847e-01, 2.1579789e-01, 3.3448935e-02,\n",
              "        7.1502067e-02]], dtype=float32)"
            ]
          },
          "metadata": {},
          "execution_count": 98
        }
      ]
    },
    {
      "cell_type": "code",
      "source": [
        "# Format pred probs into labels\n",
        "model_4_preds = tf.argmax(model_4_pred_probs , axis = 1)\n",
        "model_4_preds "
      ],
      "metadata": {
        "colab": {
          "base_uri": "https://localhost:8080/"
        },
        "id": "xi2NjMIc-c8M",
        "outputId": "c50574a6-5fa1-4014-cad0-faba0d0c8395"
      },
      "execution_count": null,
      "outputs": [
        {
          "output_type": "execute_result",
          "data": {
            "text/plain": [
              "<tf.Tensor: shape=(30212,), dtype=int64, numpy=array([0, 1, 3, ..., 4, 4, 1])>"
            ]
          },
          "metadata": {},
          "execution_count": 99
        }
      ]
    },
    {
      "cell_type": "code",
      "source": [
        "# Calculate the results\n",
        "model_4_results = calculate_results(y_true = val_labels_encoded,\n",
        "                                    y_pred = model_4_preds)"
      ],
      "metadata": {
        "id": "dJVl15Ei-h3W"
      },
      "execution_count": null,
      "outputs": []
    },
    {
      "cell_type": "code",
      "source": [
        "model_4_results"
      ],
      "metadata": {
        "colab": {
          "base_uri": "https://localhost:8080/"
        },
        "id": "rYNSw4WS_HWN",
        "outputId": "59ce4fc5-226e-4730-8d37-6709b7bd0955"
      },
      "execution_count": null,
      "outputs": [
        {
          "output_type": "execute_result",
          "data": {
            "text/plain": [
              "{'accuracy': 73.24904011651,\n",
              " 'precision': 0.7337774097852174,\n",
              " 'recall': 0.7324904011651,\n",
              " 'f1': 0.7289331996353138}"
            ]
          },
          "metadata": {},
          "execution_count": 101
        }
      ]
    },
    {
      "cell_type": "markdown",
      "source": [
        "## Model 5 (Adding Positional Embeddings)\n",
        "\n",
        "* Feature Engineering\n",
        "* Taking non-obvious features from the data and encoding them numerically\n",
        "* Engineered Features need to available at test time. Linenumbers and the total number of line IS available\n",
        "\n",
        "\n"
      ],
      "metadata": {
        "id": "nVnwLd5C_KBN"
      }
    },
    {
      "cell_type": "code",
      "source": [
        "# Check out the first abstract of the training data\n",
        "train_samples[:3]"
      ],
      "metadata": {
        "colab": {
          "base_uri": "https://localhost:8080/"
        },
        "id": "QbawzrhaF9lR",
        "outputId": "340431f0-735c-4e04-b6ce-8df4482af43b"
      },
      "execution_count": null,
      "outputs": [
        {
          "output_type": "execute_result",
          "data": {
            "text/plain": [
              "[{'target': 'OBJECTIVE',\n",
              "  'text': 'to investigate the efficacy of @ weeks of daily low-dose oral prednisolone in improving pain , mobility , and systemic low-grade inflammation in the short term and whether the effect would be sustained at @ weeks in older adults with moderate to severe knee osteoarthritis ( oa ) .',\n",
              "  'line_number': 0,\n",
              "  'total_lines': 11},\n",
              " {'target': 'METHODS',\n",
              "  'text': 'a total of @ patients with primary knee oa were randomized @:@ ; @ received @ mg/day of prednisolone and @ received placebo for @ weeks .',\n",
              "  'line_number': 1,\n",
              "  'total_lines': 11},\n",
              " {'target': 'METHODS',\n",
              "  'text': 'outcome measures included pain reduction and improvement in function scores and systemic inflammation markers .',\n",
              "  'line_number': 2,\n",
              "  'total_lines': 11}]"
            ]
          },
          "metadata": {},
          "execution_count": 102
        }
      ]
    },
    {
      "cell_type": "markdown",
      "source": [
        "### Examining the distribuition of line numbers"
      ],
      "metadata": {
        "id": "puWazszmHR-q"
      }
    },
    {
      "cell_type": "code",
      "source": [
        "# How many different line numbers are there?\n",
        "train_df[\"line_number\"].value_counts()"
      ],
      "metadata": {
        "colab": {
          "base_uri": "https://localhost:8080/"
        },
        "id": "sqg4qN6RJszC",
        "outputId": "b349d42e-3441-4f11-99f4-f14b39e177c6"
      },
      "execution_count": null,
      "outputs": [
        {
          "output_type": "execute_result",
          "data": {
            "text/plain": [
              "0     15000\n",
              "1     15000\n",
              "2     15000\n",
              "3     15000\n",
              "4     14992\n",
              "5     14949\n",
              "6     14758\n",
              "7     14279\n",
              "8     13346\n",
              "9     11981\n",
              "10    10041\n",
              "11     7892\n",
              "12     5853\n",
              "13     4152\n",
              "14     2835\n",
              "15     1861\n",
              "16     1188\n",
              "17      751\n",
              "18      462\n",
              "19      286\n",
              "20      162\n",
              "21      101\n",
              "22       66\n",
              "23       33\n",
              "24       22\n",
              "25       14\n",
              "26        7\n",
              "27        4\n",
              "28        3\n",
              "29        1\n",
              "30        1\n",
              "Name: line_number, dtype: int64"
            ]
          },
          "metadata": {},
          "execution_count": 103
        }
      ]
    },
    {
      "cell_type": "code",
      "source": [
        "# Check the distribution of line number column\n",
        "train_df.line_number.plot.hist()"
      ],
      "metadata": {
        "colab": {
          "base_uri": "https://localhost:8080/",
          "height": 283
        },
        "id": "JxYEowKTJ2cS",
        "outputId": "0b9c0ae4-7a7b-4ec7-fc73-96eb10c75270"
      },
      "execution_count": null,
      "outputs": [
        {
          "output_type": "execute_result",
          "data": {
            "text/plain": [
              "<matplotlib.axes._subplots.AxesSubplot at 0x7fd3bfb08280>"
            ]
          },
          "metadata": {},
          "execution_count": 104
        },
        {
          "output_type": "display_data",
          "data": {
            "text/plain": [
              "<Figure size 432x288 with 1 Axes>"
            ],
            "image/png": "[encoded data removed]"
          },
          "metadata": {
            "needs_background": "light"
          }
        }
      ]
    },
    {
      "cell_type": "markdown",
      "source": [
        "### Use TF to create one-hot-encoded tensors for line numbers"
      ],
      "metadata": {
        "id": "ubHb00bKKSO7"
      }
    },
    {
      "cell_type": "code",
      "source": [
        "train_line_numbers_one_hot = tf.one_hot(train_df['line_number'].to_numpy(), depth = 15)\n",
        "val_line_numbers_one_hot = tf.one_hot(val_df['line_number'].to_numpy() , depth = 15)\n",
        "test_line_numbers_one_hot = tf.one_hot(test_df['line_number'].to_numpy() , depth = 15)\n",
        "\n",
        "\n",
        "test_line_numbers_one_hot[:14] , test_line_numbers_one_hot.shape\n"
      ],
      "metadata": {
        "colab": {
          "base_uri": "https://localhost:8080/"
        },
        "id": "KctmHYaFKcbK",
        "outputId": "d2eee57a-5652-4c38-dd60-f4ec44723a5c"
      },
      "execution_count": null,
      "outputs": [
        {
          "output_type": "execute_result",
          "data": {
            "text/plain": [
              "(<tf.Tensor: shape=(14, 15), dtype=float32, numpy=\n",
              " array([[1., 0., 0., 0., 0., 0., 0., 0., 0., 0., 0., 0., 0., 0., 0.],\n",
              "        [0., 1., 0., 0., 0., 0., 0., 0., 0., 0., 0., 0., 0., 0., 0.],\n",
              "        [0., 0., 1., 0., 0., 0., 0., 0., 0., 0., 0., 0., 0., 0., 0.],\n",
              "        [0., 0., 0., 1., 0., 0., 0., 0., 0., 0., 0., 0., 0., 0., 0.],\n",
              "        [0., 0., 0., 0., 1., 0., 0., 0., 0., 0., 0., 0., 0., 0., 0.],\n",
              "        [0., 0., 0., 0., 0., 1., 0., 0., 0., 0., 0., 0., 0., 0., 0.],\n",
              "        [0., 0., 0., 0., 0., 0., 1., 0., 0., 0., 0., 0., 0., 0., 0.],\n",
              "        [0., 0., 0., 0., 0., 0., 0., 1., 0., 0., 0., 0., 0., 0., 0.],\n",
              "        [0., 0., 0., 0., 0., 0., 0., 0., 1., 0., 0., 0., 0., 0., 0.],\n",
              "        [1., 0., 0., 0., 0., 0., 0., 0., 0., 0., 0., 0., 0., 0., 0.],\n",
              "        [0., 1., 0., 0., 0., 0., 0., 0., 0., 0., 0., 0., 0., 0., 0.],\n",
              "        [0., 0., 1., 0., 0., 0., 0., 0., 0., 0., 0., 0., 0., 0., 0.],\n",
              "        [0., 0., 0., 1., 0., 0., 0., 0., 0., 0., 0., 0., 0., 0., 0.],\n",
              "        [0., 0., 0., 0., 1., 0., 0., 0., 0., 0., 0., 0., 0., 0., 0.]],\n",
              "       dtype=float32)>, TensorShape([30135, 15]))"
            ]
          },
          "metadata": {},
          "execution_count": 105
        }
      ]
    },
    {
      "cell_type": "markdown",
      "source": [
        "### Use TF to create one-hot-encoded tensors for total lines"
      ],
      "metadata": {
        "id": "SAdN-vUlK5kS"
      }
    },
    {
      "cell_type": "code",
      "source": [
        "# Plot the distribution\n",
        "train_df.total_lines.plot.hist()"
      ],
      "metadata": {
        "colab": {
          "base_uri": "https://localhost:8080/",
          "height": 285
        },
        "id": "7Lh5JiMIMiEA",
        "outputId": "2c7578ed-2e17-455a-ab0c-531cc27ee1f9"
      },
      "execution_count": null,
      "outputs": [
        {
          "output_type": "execute_result",
          "data": {
            "text/plain": [
              "<matplotlib.axes._subplots.AxesSubplot at 0x7fd3bf2816d0>"
            ]
          },
          "metadata": {},
          "execution_count": 106
        },
        {
          "output_type": "display_data",
          "data": {
            "text/plain": [
              "<Figure size 432x288 with 1 Axes>"
            ],
            "image/png": "[encoded data removed]"
          },
          "metadata": {
            "needs_background": "light"
          }
        }
      ]
    },
    {
      "cell_type": "code",
      "source": [
        "# Check the coverage of total_lines set to depth 20\n",
        "np.percentile(train_df.total_lines , 98)"
      ],
      "metadata": {
        "colab": {
          "base_uri": "https://localhost:8080/"
        },
        "id": "7W6OGBC9NLO7",
        "outputId": "008d2ab7-e274-4aec-d379-6fe6cd5062f8"
      },
      "execution_count": null,
      "outputs": [
        {
          "output_type": "execute_result",
          "data": {
            "text/plain": [
              "20.0"
            ]
          },
          "metadata": {},
          "execution_count": 107
        }
      ]
    },
    {
      "cell_type": "code",
      "source": [
        "# One hot encoding\n",
        "\n",
        "train_total_lines_one_hot = tf.one_hot(train_df['total_lines'].to_numpy(), depth = 20)\n",
        "val_total_lines_one_hot = tf.one_hot(val_df['total_lines'].to_numpy() , depth = 20)\n",
        "test_total_lines_one_hot = tf.one_hot(test_df['total_lines'].to_numpy() , depth = 20)\n",
        "\n",
        "\n",
        "train_total_lines_one_hot[:10] , train_total_lines_one_hot.shape\n"
      ],
      "metadata": {
        "colab": {
          "base_uri": "https://localhost:8080/"
        },
        "id": "ktvy0y0NLQIb",
        "outputId": "847f03fa-4c74-4f72-9b99-6e1f9cdd1985"
      },
      "execution_count": null,
      "outputs": [
        {
          "output_type": "execute_result",
          "data": {
            "text/plain": [
              "(<tf.Tensor: shape=(10, 20), dtype=float32, numpy=\n",
              " array([[0., 0., 0., 0., 0., 0., 0., 0., 0., 0., 0., 1., 0., 0., 0., 0.,\n",
              "         0., 0., 0., 0.],\n",
              "        [0., 0., 0., 0., 0., 0., 0., 0., 0., 0., 0., 1., 0., 0., 0., 0.,\n",
              "         0., 0., 0., 0.],\n",
              "        [0., 0., 0., 0., 0., 0., 0., 0., 0., 0., 0., 1., 0., 0., 0., 0.,\n",
              "         0., 0., 0., 0.],\n",
              "        [0., 0., 0., 0., 0., 0., 0., 0., 0., 0., 0., 1., 0., 0., 0., 0.,\n",
              "         0., 0., 0., 0.],\n",
              "        [0., 0., 0., 0., 0., 0., 0., 0., 0., 0., 0., 1., 0., 0., 0., 0.,\n",
              "         0., 0., 0., 0.],\n",
              "        [0., 0., 0., 0., 0., 0., 0., 0., 0., 0., 0., 1., 0., 0., 0., 0.,\n",
              "         0., 0., 0., 0.],\n",
              "        [0., 0., 0., 0., 0., 0., 0., 0., 0., 0., 0., 1., 0., 0., 0., 0.,\n",
              "         0., 0., 0., 0.],\n",
              "        [0., 0., 0., 0., 0., 0., 0., 0., 0., 0., 0., 1., 0., 0., 0., 0.,\n",
              "         0., 0., 0., 0.],\n",
              "        [0., 0., 0., 0., 0., 0., 0., 0., 0., 0., 0., 1., 0., 0., 0., 0.,\n",
              "         0., 0., 0., 0.],\n",
              "        [0., 0., 0., 0., 0., 0., 0., 0., 0., 0., 0., 1., 0., 0., 0., 0.,\n",
              "         0., 0., 0., 0.]], dtype=float32)>, TensorShape([180040, 20]))"
            ]
          },
          "metadata": {},
          "execution_count": 108
        }
      ]
    },
    {
      "cell_type": "markdown",
      "source": [
        "### Building Model 5\n",
        "\n",
        "1. Create a token-level model\n",
        "2. Create a character-level model\n",
        "3. Create a model for the \"line_number feature\"\n",
        "4. Create a model for the \"total_lines\" feature\n",
        "5. Combine the outputs of 1 & 2 using tf.keras.layers.Concatenate\n",
        "6. Combine the output of 3 , 4 , 5 using tf.keras.layers.Concatenate\n",
        "7. Create the output layer to accept the tribried embedding and output the label probabilities.\n",
        "8. Combine the inputs of 1 , 2 ,3 ,4 and outputs of 7 into a tf.keras.Model\n"
      ],
      "metadata": {
        "id": "bJ0Cpry5OL0E"
      }
    },
    {
      "cell_type": "code",
      "source": [
        "# 1. Token inputs\n",
        "token_inputs = layers.Input(shape = [] , dtype = \"string\" , name = \"token_inputs\")\n",
        "token_embeddings = tf_hub_embedding_layer(token_inputs)\n",
        "token_outputs = layers.Dense(128 , activation = \"relu\")(token_embeddings)\n",
        "token_model = tf.keras.Model(inputs = token_inputs,\n",
        "                             outputs = token_outputs)\n",
        "\n",
        "# 2. Char inputs\n",
        "char_inputs = layers.Input(shape = (1, ) , dtype = \"string\" , name = \"char_inputs\")\n",
        "char_vectors = char_vectorizer(char_inputs)\n",
        "char_embeddings = char_embed(char_vectors)\n",
        "char_bi_lstm = layers.Bidirectional(layers.LSTM(24))(char_embeddings)\n",
        "char_model = tf.keras.Model(inputs = char_inputs,\n",
        "                            outputs = char_bi_lstm)\n",
        "\n",
        "# 3. Line Numbers Model\n",
        "line_number_inputs = layers.Input(shape = (15,) , dtype = tf.float32, name = \"line_number_input\")\n",
        "x = layers.Dense(32 , activation = \"relu\")(line_number_inputs)\n",
        "line_number_model = tf.keras.Model(inputs = line_number_inputs,\n",
        "                                   outputs = x)\n",
        "\n",
        "# 4. Total Lines\n",
        "total_lines_inputs = layers.Input(shape = (20,) , dtype = tf.float32 , name = 'total_lines_input')\n",
        "y = layers.Dense(32 , activation = \"relu\")(total_lines_inputs)\n",
        "total_lines_model = tf.keras.Model(inputs = total_lines_inputs,\n",
        "                                   outputs = y)\n",
        "\n",
        "# 5. Combine 1 and 2 (token and char embeddings)\n",
        "combined_embeddings = layers.Concatenate(name = \"char_token_hybrid_embedding\")([token_model.output , char_model.output])\n",
        "\n",
        "\n",
        "z = layers.Dense(256 , activation = \"relu\")(combined_embeddings)\n",
        "z = layers.Dropout(0.5)(z)\n",
        "# 6. Combine the outputs of 3 , 4 ,5 (combine the positional embeddings with already combined token/char embeddings)\n",
        "tribrid_embeddings = layers.Concatenate(name = \"char_token_positional_embedding\")([line_number_model.output ,\n",
        "                                                                                   total_lines_model.output,\n",
        "                                                                                   z])\n",
        "\n",
        "# 7. Create output layer\n",
        "output_layer = layers.Dense(5 , activation = \"softmax\" , name = \"output_layer\")(tribrid_embeddings)\n",
        "\n",
        "# 8. Put it all together in a model\n",
        "model_5 = tf.keras.Model(inputs = [line_number_model.input,\n",
        "                                   total_lines_model.input,\n",
        "                                   token_model.input,\n",
        "                                   char_model.input],\n",
        "                         outputs = output_layer,\n",
        "                         name = \"model_5_tribred_embedding_model\")\n",
        "\n",
        "\n"
      ],
      "metadata": {
        "id": "tCbNx-k0PrAV"
      },
      "execution_count": null,
      "outputs": []
    },
    {
      "cell_type": "markdown",
      "source": [
        "### Examining Model 5"
      ],
      "metadata": {
        "id": "p5z_-nG-d-BY"
      }
    },
    {
      "cell_type": "code",
      "source": [
        "plot_model(model_5 , show_shapes=True)"
      ],
      "metadata": {
        "colab": {
          "base_uri": "https://localhost:8080/",
          "height": 976
        },
        "id": "TyAwl52yXxp9",
        "outputId": "c0e93c66-0c7c-42b6-b825-bdee45e3e0af"
      },
      "execution_count": null,
      "outputs": [
        {
          "output_type": "execute_result",
          "data": {
            "image/png": "[encoded data removed]",
            "text/plain": [
              "<IPython.core.display.Image object>"
            ]
          },
          "metadata": {},
          "execution_count": 110
        }
      ]
    },
    {
      "cell_type": "markdown",
      "source": [
        "### Compile model 5\n"
      ],
      "metadata": {
        "id": "vI0NlvbRePsB"
      }
    },
    {
      "cell_type": "code",
      "source": [
        "model_5.compile(loss = tf.keras.losses.CategoricalCrossentropy(label_smoothing = 0.2), # label smoothing helps prevent overfitting\n",
        "                optimizer = tf.keras.optimizers.Adam(),\n",
        "                metrics = [\"accuracy\"])"
      ],
      "metadata": {
        "id": "VgMpmvwXfwRF"
      },
      "execution_count": null,
      "outputs": []
    },
    {
      "cell_type": "markdown",
      "source": [
        "If the model gets too confident on a single class (ed its prediction probability is really high) , it may get stuck on that class and not consider other classes.\n",
        "\n",
        "Really confident prediction probabilities: `[0.0 , 0.0 , 1.0 , 0.0 , 0.0]`\n",
        "\n",
        "Label smoothing assigns some of the value from the highest pred prob to other classes, hopefully improving generalization `[0.0 , 0.01 , 0.96 , 0.01 , 0.02]`\n"
      ],
      "metadata": {
        "id": "qWEKiDkmgIgx"
      }
    },
    {
      "cell_type": "markdown",
      "source": [
        "### Create tribrid embedding datasets using tf.data\n",
        "\n",
        "Create training and validation datasets (all four kinds of input data)"
      ],
      "metadata": {
        "id": "XCxWgNHbgYPa"
      }
    },
    {
      "cell_type": "code",
      "source": [
        "# Creating datasets for training data\n",
        "train_char_token_pos_data = tf.data.Dataset.from_tensor_slices((train_line_numbers_one_hot,\n",
        "                                                                train_total_lines_one_hot,\n",
        "                                                                train_sentences,\n",
        "                                                                train_chars))\n",
        "\n",
        "train_char_token_pos_labels = tf.data.Dataset.from_tensor_slices(train_labels_one_hot)\n",
        "train_char_token_pos_dataset = tf.data.Dataset.zip((train_char_token_pos_data , train_char_token_pos_labels))\n",
        "train_char_token_pos_dataset = train_char_token_pos_dataset.batch(32).prefetch(tf.data.AUTOTUNE)\n",
        "\n",
        "# Doing the same for validation data\n",
        "val_char_token_pos_data = tf.data.Dataset.from_tensor_slices((val_line_numbers_one_hot,\n",
        "                                                                val_total_lines_one_hot,\n",
        "                                                                val_sentences,\n",
        "                                                                val_chars))\n",
        "\n",
        "val_char_token_pos_labels = tf.data.Dataset.from_tensor_slices(val_labels_one_hot)\n",
        "val_char_token_pos_dataset = tf.data.Dataset.zip((val_char_token_pos_data , val_char_token_pos_labels))\n",
        "val_char_token_pos_dataset = val_char_token_pos_dataset.batch(32).prefetch(tf.data.AUTOTUNE)\n"
      ],
      "metadata": {
        "id": "T-509LAkiOAC"
      },
      "execution_count": null,
      "outputs": []
    },
    {
      "cell_type": "code",
      "source": [
        "# Check the input shapes\n",
        "train_char_token_pos_dataset , val_char_token_pos_dataset"
      ],
      "metadata": {
        "colab": {
          "base_uri": "https://localhost:8080/"
        },
        "id": "uyrDNOc1kySb",
        "outputId": "02a14785-4999-4d5f-a10c-03c111a66862"
      },
      "execution_count": null,
      "outputs": [
        {
          "output_type": "execute_result",
          "data": {
            "text/plain": [
              "(<PrefetchDataset element_spec=((TensorSpec(shape=(None, 15), dtype=tf.float32, name=None), TensorSpec(shape=(None, 20), dtype=tf.float32, name=None), TensorSpec(shape=(None,), dtype=tf.string, name=None), TensorSpec(shape=(None,), dtype=tf.string, name=None)), TensorSpec(shape=(None, 5), dtype=tf.float64, name=None))>,\n",
              " <PrefetchDataset element_spec=((TensorSpec(shape=(None, 15), dtype=tf.float32, name=None), TensorSpec(shape=(None, 20), dtype=tf.float32, name=None), TensorSpec(shape=(None,), dtype=tf.string, name=None), TensorSpec(shape=(None,), dtype=tf.string, name=None)), TensorSpec(shape=(None, 5), dtype=tf.float64, name=None))>)"
            ]
          },
          "metadata": {},
          "execution_count": 113
        }
      ]
    },
    {
      "cell_type": "markdown",
      "source": [
        "### Fitting Model 5"
      ],
      "metadata": {
        "id": "fS_tpuBGlUCM"
      }
    },
    {
      "cell_type": "code",
      "source": [
        "history_model_5 = model_5.fit(train_char_token_pos_dataset,\n",
        "                              steps_per_epoch = int(0.1 * len(train_char_token_pos_dataset)),\n",
        "                              validation_data = val_char_token_pos_dataset,\n",
        "                              validation_steps = int(0.1 * len(val_char_token_pos_dataset)),\n",
        "                              epochs = 15)\n"
      ],
      "metadata": {
        "colab": {
          "base_uri": "https://localhost:8080/"
        },
        "id": "gObFMP96lraM",
        "outputId": "372f2a3a-bdf7-4f80-eb24-c30ccfd604db"
      },
      "execution_count": null,
      "outputs": [
        {
          "output_type": "stream",
          "name": "stdout",
          "text": [
            "Epoch 1/15\n",
            "562/562 [==============================] - 37s 52ms/step - loss: 1.0955 - accuracy: 0.7251 - val_loss: 0.9817 - val_accuracy: 0.8059\n",
            "Epoch 2/15\n",
            "562/562 [==============================] - 27s 49ms/step - loss: 0.9664 - accuracy: 0.8163 - val_loss: 0.9497 - val_accuracy: 0.8261\n",
            "Epoch 3/15\n",
            "562/562 [==============================] - 25s 44ms/step - loss: 0.9482 - accuracy: 0.8250 - val_loss: 0.9416 - val_accuracy: 0.8371\n",
            "Epoch 4/15\n",
            "562/562 [==============================] - 27s 48ms/step - loss: 0.9406 - accuracy: 0.8333 - val_loss: 0.9306 - val_accuracy: 0.8334\n",
            "Epoch 5/15\n",
            "562/562 [==============================] - 26s 46ms/step - loss: 0.9362 - accuracy: 0.8364 - val_loss: 0.9256 - val_accuracy: 0.8408\n",
            "Epoch 6/15\n",
            "562/562 [==============================] - 25s 45ms/step - loss: 0.9406 - accuracy: 0.8307 - val_loss: 0.9202 - val_accuracy: 0.8461\n",
            "Epoch 7/15\n",
            "562/562 [==============================] - 28s 50ms/step - loss: 0.9275 - accuracy: 0.8420 - val_loss: 0.9224 - val_accuracy: 0.8384\n",
            "Epoch 8/15\n",
            "562/562 [==============================] - 26s 46ms/step - loss: 0.9241 - accuracy: 0.8436 - val_loss: 0.9074 - val_accuracy: 0.8534\n",
            "Epoch 9/15\n",
            "562/562 [==============================] - 26s 46ms/step - loss: 0.9247 - accuracy: 0.8421 - val_loss: 0.9194 - val_accuracy: 0.8438\n",
            "Epoch 10/15\n",
            "562/562 [==============================] - 27s 48ms/step - loss: 0.9222 - accuracy: 0.8473 - val_loss: 0.9082 - val_accuracy: 0.8477\n",
            "Epoch 11/15\n",
            "  7/562 [..............................] - ETA: 22s - loss: 0.9373 - accuracy: 0.8350"
          ]
        },
        {
          "output_type": "stream",
          "name": "stderr",
          "text": [
            "WARNING:tensorflow:Your input ran out of data; interrupting training. Make sure that your dataset or generator can generate at least `steps_per_epoch * epochs` batches (in this case, 8430 batches). You may need to use the repeat() function when building your dataset.\n"
          ]
        },
        {
          "output_type": "stream",
          "name": "stdout",
          "text": [
            "\b\b\b\b\b\b\b\b\b\b\b\b\b\b\b\b\b\b\b\b\b\b\b\b\b\b\b\b\b\b\b\b\b\b\b\b\b\b\b\b\b\b\b\b\b\b\b\b\b\b\b\b\b\b\b\b\b\b\b\b\b\b\b\b\b\b\b\b\b\b\b\b\b\b\b\b\b\b\b\b\b\b\b\b\b\r562/562 [==============================] - 3s 4ms/step - loss: 0.9373 - accuracy: 0.8350 - val_loss: 0.9107 - val_accuracy: 0.8487\n"
          ]
        }
      ]
    },
    {
      "cell_type": "markdown",
      "source": [
        "###Evaluation and Predictions"
      ],
      "metadata": {
        "id": "QbwWEOU1mPZc"
      }
    },
    {
      "cell_type": "code",
      "source": [
        "# Make predictions with the model\n",
        "model_5_pred_probs = model_5.predict(val_char_token_pos_dataset, verbose = 1)\n",
        "\n",
        "# Convert pred probs to labels\n",
        "model_5_preds = tf.argmax(model_5_pred_probs , axis = 1)\n",
        "\n",
        "# Calculate results\n",
        "model_5_results = calculate_results(y_true = val_labels_encoded,\n",
        "                                    y_pred = model_5_preds)\n"
      ],
      "metadata": {
        "colab": {
          "base_uri": "https://localhost:8080/"
        },
        "id": "qkK0kZCkmidE",
        "outputId": "7338ac11-8f94-4dc2-92a4-69a9f850d7c0"
      },
      "execution_count": null,
      "outputs": [
        {
          "output_type": "stream",
          "name": "stdout",
          "text": [
            "945/945 [==============================] - 22s 21ms/step\n"
          ]
        }
      ]
    },
    {
      "cell_type": "code",
      "source": [
        "model_5_results"
      ],
      "metadata": {
        "colab": {
          "base_uri": "https://localhost:8080/"
        },
        "id": "2NBtRj0xnfxN",
        "outputId": "e76134c1-cfa2-45ad-ab40-35e18203b7c4"
      },
      "execution_count": null,
      "outputs": [
        {
          "output_type": "execute_result",
          "data": {
            "text/plain": [
              "{'accuracy': 83.5032437442076,\n",
              " 'f1': 0.8341416997916474,\n",
              " 'precision': 0.83422043964078,\n",
              " 'recall': 0.835032437442076}"
            ]
          },
          "metadata": {},
          "execution_count": 113
        }
      ]
    },
    {
      "cell_type": "markdown",
      "source": [
        "**The model has achieved 83% accuracy with 10% of the training data.**"
      ],
      "metadata": {
        "id": "11fzuKjxpP7a"
      }
    },
    {
      "cell_type": "markdown",
      "source": [
        "## Comparing the models"
      ],
      "metadata": {
        "id": "4JdiO0QUpZ2W"
      }
    },
    {
      "cell_type": "code",
      "source": [
        "import pandas as pd\n",
        "all_model_results = pd.DataFrame([baseline_results , model_1_results , model_2_results , model_3_results , model_4_results , model_5_results], index = ['model_0_baseline_results' , 'model_1_custom_token_embedding' , 'model_2_pretrained_token_embedding', 'model_3_custom_char_embedding' , 'model_4_hybrid_char_token_embedding' , 'model_5_pos_char_token_embedding'])\n"
      ],
      "metadata": {
        "id": "sh3FDtlroWV0"
      },
      "execution_count": null,
      "outputs": []
    },
    {
      "cell_type": "code",
      "source": [
        "all_model_results"
      ],
      "metadata": {
        "colab": {
          "base_uri": "https://localhost:8080/",
          "height": 238
        },
        "id": "KvrvoF0koyGd",
        "outputId": "d2154f86-1384-4c0a-fd1b-7074f4b8f692"
      },
      "execution_count": null,
      "outputs": [
        {
          "output_type": "execute_result",
          "data": {
            "text/plain": [
              "                                      accuracy  precision    recall        f1\n",
              "model_0_baseline_results             72.183238   0.718647  0.721832  0.698925\n",
              "model_1_custom_token_embedding       78.660797   0.783105  0.786608  0.784047\n",
              "model_2_pretrained_token_embedding   71.382232   0.714050  0.713822  0.710777\n",
              "model_3_custom_char_embedding        66.185622   0.658688  0.661856  0.651899\n",
              "model_4_hybrid_char_token_embedding  73.249040   0.733777  0.732490  0.728933\n",
              "model_5_pos_char_token_embedding     85.068847   0.851944  0.850688  0.847460"
            ],
            "text/html": [
              "\n",
              "  <div id=\"df-26bf470f-92d2-4782-88e8-04eca9b7417c\">\n",
              "    <div class=\"colab-df-container\">\n",
              "      <div>\n",
              "<style scoped>\n",
              "    .dataframe tbody tr th:only-of-type {\n",
              "        vertical-align: middle;\n",
              "    }\n",
              "\n",
              "    .dataframe tbody tr th {\n",
              "        vertical-align: top;\n",
              "    }\n",
              "\n",
              "    .dataframe thead th {\n",
              "        text-align: right;\n",
              "    }\n",
              "</style>\n",
              "<table border=\"1\" class=\"dataframe\">\n",
              "  <thead>\n",
              "    <tr style=\"text-align: right;\">\n",
              "      <th></th>\n",
              "      <th>accuracy</th>\n",
              "      <th>precision</th>\n",
              "      <th>recall</th>\n",
              "      <th>f1</th>\n",
              "    </tr>\n",
              "  </thead>\n",
              "  <tbody>\n",
              "    <tr>\n",
              "      <th>model_0_baseline_results</th>\n",
              "      <td>72.183238</td>\n",
              "      <td>0.718647</td>\n",
              "      <td>0.721832</td>\n",
              "      <td>0.698925</td>\n",
              "    </tr>\n",
              "    <tr>\n",
              "      <th>model_1_custom_token_embedding</th>\n",
              "      <td>78.660797</td>\n",
              "      <td>0.783105</td>\n",
              "      <td>0.786608</td>\n",
              "      <td>0.784047</td>\n",
              "    </tr>\n",
              "    <tr>\n",
              "      <th>model_2_pretrained_token_embedding</th>\n",
              "      <td>71.382232</td>\n",
              "      <td>0.714050</td>\n",
              "      <td>0.713822</td>\n",
              "      <td>0.710777</td>\n",
              "    </tr>\n",
              "    <tr>\n",
              "      <th>model_3_custom_char_embedding</th>\n",
              "      <td>66.185622</td>\n",
              "      <td>0.658688</td>\n",
              "      <td>0.661856</td>\n",
              "      <td>0.651899</td>\n",
              "    </tr>\n",
              "    <tr>\n",
              "      <th>model_4_hybrid_char_token_embedding</th>\n",
              "      <td>73.249040</td>\n",
              "      <td>0.733777</td>\n",
              "      <td>0.732490</td>\n",
              "      <td>0.728933</td>\n",
              "    </tr>\n",
              "    <tr>\n",
              "      <th>model_5_pos_char_token_embedding</th>\n",
              "      <td>85.068847</td>\n",
              "      <td>0.851944</td>\n",
              "      <td>0.850688</td>\n",
              "      <td>0.847460</td>\n",
              "    </tr>\n",
              "  </tbody>\n",
              "</table>\n",
              "</div>\n",
              "      <button class=\"colab-df-convert\" onclick=\"convertToInteractive('df-26bf470f-92d2-4782-88e8-04eca9b7417c')\"\n",
              "              title=\"Convert this dataframe to an interactive table.\"\n",
              "              style=\"display:none;\">\n",
              "        \n",
              "  <svg xmlns=\"http://www.w3.org/2000/svg\" height=\"24px\"viewBox=\"0 0 24 24\"\n",
              "       width=\"24px\">\n",
              "    <path d=\"M0 0h24v24H0V0z\" fill=\"none\"/>\n",
              "    <path d=\"M18.56 5.44l.94 2.06.94-2.06 2.06-.94-2.06-.94-.94-2.06-.94 2.06-2.06.94zm-11 1L8.5 8.5l.94-2.06 2.06-.94-2.06-.94L8.5 2.5l-.94 2.06-2.06.94zm10 10l.94 2.06.94-2.06 2.06-.94-2.06-.94-.94-2.06-.94 2.06-2.06.94z\"/><path d=\"M17.41 7.96l-1.37-1.37c-.4-.4-.92-.59-1.43-.59-.52 0-1.04.2-1.43.59L10.3 9.45l-7.72 7.72c-.78.78-.78 2.05 0 2.83L4 21.41c.39.39.9.59 1.41.59.51 0 1.02-.2 1.41-.59l7.78-7.78 2.81-2.81c.8-.78.8-2.07 0-2.86zM5.41 20L4 18.59l7.72-7.72 1.47 1.35L5.41 20z\"/>\n",
              "  </svg>\n",
              "      </button>\n",
              "      \n",
              "  <style>\n",
              "    .colab-df-container {\n",
              "      display:flex;\n",
              "      flex-wrap:wrap;\n",
              "      gap: 12px;\n",
              "    }\n",
              "\n",
              "    .colab-df-convert {\n",
              "      background-color: #E8F0FE;\n",
              "      border: none;\n",
              "      border-radius: 50%;\n",
              "      cursor: pointer;\n",
              "      display: none;\n",
              "      fill: #1967D2;\n",
              "      height: 32px;\n",
              "      padding: 0 0 0 0;\n",
              "      width: 32px;\n",
              "    }\n",
              "\n",
              "    .colab-df-convert:hover {\n",
              "      background-color: #E2EBFA;\n",
              "      box-shadow: 0px 1px 2px rgba(60, 64, 67, 0.3), 0px 1px 3px 1px rgba(60, 64, 67, 0.15);\n",
              "      fill: #174EA6;\n",
              "    }\n",
              "\n",
              "    [theme=dark] .colab-df-convert {\n",
              "      background-color: #3B4455;\n",
              "      fill: #D2E3FC;\n",
              "    }\n",
              "\n",
              "    [theme=dark] .colab-df-convert:hover {\n",
              "      background-color: #434B5C;\n",
              "      box-shadow: 0px 1px 3px 1px rgba(0, 0, 0, 0.15);\n",
              "      filter: drop-shadow(0px 1px 2px rgba(0, 0, 0, 0.3));\n",
              "      fill: #FFFFFF;\n",
              "    }\n",
              "  </style>\n",
              "\n",
              "      <script>\n",
              "        const buttonEl =\n",
              "          document.querySelector('#df-26bf470f-92d2-4782-88e8-04eca9b7417c button.colab-df-convert');\n",
              "        buttonEl.style.display =\n",
              "          google.colab.kernel.accessAllowed ? 'block' : 'none';\n",
              "\n",
              "        async function convertToInteractive(key) {\n",
              "          const element = document.querySelector('#df-26bf470f-92d2-4782-88e8-04eca9b7417c');\n",
              "          const dataTable =\n",
              "            await google.colab.kernel.invokeFunction('convertToInteractive',\n",
              "                                                     [key], {});\n",
              "          if (!dataTable) return;\n",
              "\n",
              "          const docLinkHtml = 'Like what you see? Visit the ' +\n",
              "            '<a target=\"_blank\" href=https://colab.research.google.com/notebooks/data_table.ipynb>data table notebook</a>'\n",
              "            + ' to learn more about interactive tables.';\n",
              "          element.innerHTML = '';\n",
              "          dataTable['output_type'] = 'display_data';\n",
              "          await google.colab.output.renderOutput(dataTable, element);\n",
              "          const docLink = document.createElement('div');\n",
              "          docLink.innerHTML = docLinkHtml;\n",
              "          element.appendChild(docLink);\n",
              "        }\n",
              "      </script>\n",
              "    </div>\n",
              "  </div>\n",
              "  "
            ]
          },
          "metadata": {},
          "execution_count": 117
        }
      ]
    },
    {
      "cell_type": "code",
      "source": [
        "# Reduce the accuracy to same scal as other metrics\n",
        "all_model_results['accuracy'] = all_model_results['accuracy'] / 100"
      ],
      "metadata": {
        "id": "jDj1CoiyvrCQ"
      },
      "execution_count": null,
      "outputs": []
    },
    {
      "cell_type": "code",
      "source": [
        "# Plot and compare all model results\n",
        "all_model_results.plot(kind = 'bar' , figsize = (10,7)).legend(bbox_to_anchor = (1.0,1.0));"
      ],
      "metadata": {
        "colab": {
          "base_uri": "https://localhost:8080/",
          "height": 619
        },
        "id": "UwZLKp1gwLjq",
        "outputId": "3ffcaa8b-3127-45d7-e568-cceda078b373"
      },
      "execution_count": null,
      "outputs": [
        {
          "output_type": "display_data",
          "data": {
            "text/plain": [
              "<Figure size 720x504 with 1 Axes>"
            ],
            "image/png": "[encoded data removed]"
          },
          "metadata": {
            "needs_background": "light"
          }
        }
      ]
    },
    {
      "cell_type": "code",
      "source": [
        "# Sort the models f1-scores\n",
        "all_model_results.sort_values(\"f1\" , ascending = True)['f1'].plot(kind = \"bar\" , figsize = (10,7))"
      ],
      "metadata": {
        "colab": {
          "base_uri": "https://localhost:8080/",
          "height": 637
        },
        "id": "QiYDCRN9wasg",
        "outputId": "63e0c4d7-b938-44f7-9d04-23e618af6617"
      },
      "execution_count": null,
      "outputs": [
        {
          "output_type": "execute_result",
          "data": {
            "text/plain": [
              "<matplotlib.axes._subplots.AxesSubplot at 0x7fd3bc2ffd60>"
            ]
          },
          "metadata": {},
          "execution_count": 120
        },
        {
          "output_type": "display_data",
          "data": {
            "text/plain": [
              "<Figure size 720x504 with 1 Axes>"
            ],
            "image/png": "[encoded data removed]"
          },
          "metadata": {
            "needs_background": "light"
          }
        }
      ]
    },
    {
      "cell_type": "markdown",
      "source": [
        "## Saving and loading model 5"
      ],
      "metadata": {
        "id": "OnhINrYgxBN5"
      }
    },
    {
      "cell_type": "code",
      "source": [
        "model_5.save(\"skimlit_tribrid_model\")\n"
      ],
      "metadata": {
        "colab": {
          "base_uri": "https://localhost:8080/"
        },
        "id": "inQOOJ5JxYZ5",
        "outputId": "f9df7236-7468-4831-9174-b11232bd6f6a"
      },
      "execution_count": null,
      "outputs": [
        {
          "output_type": "stream",
          "name": "stderr",
          "text": [
            "WARNING:absl:Found untraced functions such as lstm_cell_4_layer_call_fn, lstm_cell_4_layer_call_and_return_conditional_losses, lstm_cell_5_layer_call_fn, lstm_cell_5_layer_call_and_return_conditional_losses while saving (showing 4 of 4). These functions will not be directly callable after loading.\n"
          ]
        }
      ]
    },
    {
      "cell_type": "code",
      "source": [
        "# Load in best performing model\n",
        "loaded_model = tf.keras.models.load_model(\"skimlit_tribrid_model\")"
      ],
      "metadata": {
        "id": "OI7VLqzJzMly"
      },
      "execution_count": null,
      "outputs": []
    },
    {
      "cell_type": "code",
      "source": [
        "# Make predictions with the loaded model on the validation set\n",
        "loaded_pred_probs = loaded_model.predict(val_char_token_pos_dataset)\n",
        "loaded_preds = tf.argmax(loaded_pred_probs , axis = 1)\n",
        "loaded_preds"
      ],
      "metadata": {
        "colab": {
          "base_uri": "https://localhost:8080/"
        },
        "id": "Q-9jxUPKzp56",
        "outputId": "d46c800a-571e-4c49-add5-42420e7db511"
      },
      "execution_count": null,
      "outputs": [
        {
          "output_type": "stream",
          "name": "stdout",
          "text": [
            "945/945 [==============================] - 24s 22ms/step\n"
          ]
        },
        {
          "output_type": "execute_result",
          "data": {
            "text/plain": [
              "<tf.Tensor: shape=(30212,), dtype=int64, numpy=array([0, 0, 0, ..., 4, 4, 1])>"
            ]
          },
          "metadata": {},
          "execution_count": 123
        }
      ]
    },
    {
      "cell_type": "code",
      "source": [
        "loaded_preds[:10]\n"
      ],
      "metadata": {
        "colab": {
          "base_uri": "https://localhost:8080/"
        },
        "id": "03GZ0Gr-0_A0",
        "outputId": "377d90e0-cdda-48b3-8df6-a540d1cb9857"
      },
      "execution_count": null,
      "outputs": [
        {
          "output_type": "execute_result",
          "data": {
            "text/plain": [
              "<tf.Tensor: shape=(10,), dtype=int64, numpy=array([0, 0, 3, 2, 2, 4, 4, 4, 4, 1])>"
            ]
          },
          "metadata": {},
          "execution_count": 122
        }
      ]
    },
    {
      "cell_type": "code",
      "source": [
        "# Calculate results of loaded model\n",
        "loaded_model_results = calculate_results(y_true = val_labels_encoded,\n",
        "                                         y_pred = loaded_preds)\n",
        "loaded_model_results"
      ],
      "metadata": {
        "colab": {
          "base_uri": "https://localhost:8080/"
        },
        "id": "qFksNtMD1Kkz",
        "outputId": "82f2adbd-47f8-49d9-87d5-e619732bec34"
      },
      "execution_count": null,
      "outputs": [
        {
          "output_type": "execute_result",
          "data": {
            "text/plain": [
              "{'accuracy': 85.06884681583476,\n",
              " 'precision': 0.8519438414614544,\n",
              " 'recall': 0.8506884681583476,\n",
              " 'f1': 0.8474604486066846}"
            ]
          },
          "metadata": {},
          "execution_count": 124
        }
      ]
    },
    {
      "cell_type": "code",
      "source": [
        "model_5_results"
      ],
      "metadata": {
        "colab": {
          "base_uri": "https://localhost:8080/"
        },
        "id": "Np279U991Z4z",
        "outputId": "cda4f425-99fc-4fae-c1e1-40ac51de64e2"
      },
      "execution_count": null,
      "outputs": [
        {
          "output_type": "execute_result",
          "data": {
            "text/plain": [
              "{'accuracy': 85.06884681583476,\n",
              " 'precision': 0.8519438414614544,\n",
              " 'recall': 0.8506884681583476,\n",
              " 'f1': 0.8474604486066846}"
            ]
          },
          "metadata": {},
          "execution_count": 125
        }
      ]
    },
    {
      "cell_type": "code",
      "source": [],
      "metadata": {
        "id": "aTUhrt6R1cZT"
      },
      "execution_count": null,
      "outputs": []
    },
    {
      "cell_type": "code",
      "source": [],
      "metadata": {
        "id": "wMbKc0mZ1nyb"
      },
      "execution_count": null,
      "outputs": []
    }
  ]
}